{
  "cells": [
    {
      "cell_type": "markdown",
      "metadata": {
        "id": "jZZe0tEJt2xP"
      },
      "source": [
        "# EECS 3401 Final Project\n",
        "## Authors: Abbey McMillan, Asher McCreaady"
      ]
    },
    {
      "cell_type": "markdown",
      "metadata": {
        "id": "pjEe8-5nt88H"
      },
      "source": [
        "## Project Description\n",
        "For this project, we will be using a dataset that holds information about food delivery times. We look at attributes such as delivery person age, ratings, restaurant location, delivery location, type of meal, vehicle type, and time taken. We will be using a supervised learning model to attempt to predict the time it will take in minutes to deliver a meal."
      ]
    },
    {
      "cell_type": "markdown",
      "metadata": {
        "id": "9GdGGhLslbHw"
      },
      "source": [
        "### Installing the Dataset and relevant packages"
      ]
    },
    {
      "cell_type": "code",
      "execution_count": 46,
      "metadata": {
        "colab": {
          "base_uri": "https://localhost:8080/"
        },
        "id": "QIhBIrC3cuMT",
        "outputId": "feba790a-e8ce-41b2-ceb4-c68cf794e52b"
      },
      "outputs": [
        {
          "output_type": "stream",
          "name": "stdout",
          "text": [
            "Requirement already satisfied: opendatasets in /usr/local/lib/python3.10/dist-packages (0.1.22)\n",
            "Requirement already satisfied: tqdm in /usr/local/lib/python3.10/dist-packages (from opendatasets) (4.66.1)\n",
            "Requirement already satisfied: kaggle in /usr/local/lib/python3.10/dist-packages (from opendatasets) (1.5.16)\n",
            "Requirement already satisfied: click in /usr/local/lib/python3.10/dist-packages (from opendatasets) (8.1.7)\n",
            "Requirement already satisfied: six>=1.10 in /usr/local/lib/python3.10/dist-packages (from kaggle->opendatasets) (1.16.0)\n",
            "Requirement already satisfied: certifi in /usr/local/lib/python3.10/dist-packages (from kaggle->opendatasets) (2023.7.22)\n",
            "Requirement already satisfied: python-dateutil in /usr/local/lib/python3.10/dist-packages (from kaggle->opendatasets) (2.8.2)\n",
            "Requirement already satisfied: requests in /usr/local/lib/python3.10/dist-packages (from kaggle->opendatasets) (2.31.0)\n",
            "Requirement already satisfied: python-slugify in /usr/local/lib/python3.10/dist-packages (from kaggle->opendatasets) (8.0.1)\n",
            "Requirement already satisfied: urllib3 in /usr/local/lib/python3.10/dist-packages (from kaggle->opendatasets) (2.0.7)\n",
            "Requirement already satisfied: bleach in /usr/local/lib/python3.10/dist-packages (from kaggle->opendatasets) (6.1.0)\n",
            "Requirement already satisfied: webencodings in /usr/local/lib/python3.10/dist-packages (from bleach->kaggle->opendatasets) (0.5.1)\n",
            "Requirement already satisfied: text-unidecode>=1.3 in /usr/local/lib/python3.10/dist-packages (from python-slugify->kaggle->opendatasets) (1.3)\n",
            "Requirement already satisfied: charset-normalizer<4,>=2 in /usr/local/lib/python3.10/dist-packages (from requests->kaggle->opendatasets) (3.3.2)\n",
            "Requirement already satisfied: idna<4,>=2.5 in /usr/local/lib/python3.10/dist-packages (from requests->kaggle->opendatasets) (3.4)\n",
            "Requirement already satisfied: pandas in /usr/local/lib/python3.10/dist-packages (1.5.3)\n",
            "Requirement already satisfied: python-dateutil>=2.8.1 in /usr/local/lib/python3.10/dist-packages (from pandas) (2.8.2)\n",
            "Requirement already satisfied: pytz>=2020.1 in /usr/local/lib/python3.10/dist-packages (from pandas) (2023.3.post1)\n",
            "Requirement already satisfied: numpy>=1.21.0 in /usr/local/lib/python3.10/dist-packages (from pandas) (1.23.5)\n",
            "Requirement already satisfied: six>=1.5 in /usr/local/lib/python3.10/dist-packages (from python-dateutil>=2.8.1->pandas) (1.16.0)\n",
            "Requirement already satisfied: seaborn in /usr/local/lib/python3.10/dist-packages (0.12.2)\n",
            "Requirement already satisfied: numpy!=1.24.0,>=1.17 in /usr/local/lib/python3.10/dist-packages (from seaborn) (1.23.5)\n",
            "Requirement already satisfied: pandas>=0.25 in /usr/local/lib/python3.10/dist-packages (from seaborn) (1.5.3)\n",
            "Requirement already satisfied: matplotlib!=3.6.1,>=3.1 in /usr/local/lib/python3.10/dist-packages (from seaborn) (3.7.1)\n",
            "Requirement already satisfied: contourpy>=1.0.1 in /usr/local/lib/python3.10/dist-packages (from matplotlib!=3.6.1,>=3.1->seaborn) (1.2.0)\n",
            "Requirement already satisfied: cycler>=0.10 in /usr/local/lib/python3.10/dist-packages (from matplotlib!=3.6.1,>=3.1->seaborn) (0.12.1)\n",
            "Requirement already satisfied: fonttools>=4.22.0 in /usr/local/lib/python3.10/dist-packages (from matplotlib!=3.6.1,>=3.1->seaborn) (4.44.3)\n",
            "Requirement already satisfied: kiwisolver>=1.0.1 in /usr/local/lib/python3.10/dist-packages (from matplotlib!=3.6.1,>=3.1->seaborn) (1.4.5)\n",
            "Requirement already satisfied: packaging>=20.0 in /usr/local/lib/python3.10/dist-packages (from matplotlib!=3.6.1,>=3.1->seaborn) (23.2)\n",
            "Requirement already satisfied: pillow>=6.2.0 in /usr/local/lib/python3.10/dist-packages (from matplotlib!=3.6.1,>=3.1->seaborn) (9.4.0)\n",
            "Requirement already satisfied: pyparsing>=2.3.1 in /usr/local/lib/python3.10/dist-packages (from matplotlib!=3.6.1,>=3.1->seaborn) (3.1.1)\n",
            "Requirement already satisfied: python-dateutil>=2.7 in /usr/local/lib/python3.10/dist-packages (from matplotlib!=3.6.1,>=3.1->seaborn) (2.8.2)\n",
            "Requirement already satisfied: pytz>=2020.1 in /usr/local/lib/python3.10/dist-packages (from pandas>=0.25->seaborn) (2023.3.post1)\n",
            "Requirement already satisfied: six>=1.5 in /usr/local/lib/python3.10/dist-packages (from python-dateutil>=2.7->matplotlib!=3.6.1,>=3.1->seaborn) (1.16.0)\n",
            "Requirement already satisfied: scikit-plot==0.3.7 in /usr/local/lib/python3.10/dist-packages (0.3.7)\n",
            "Requirement already satisfied: matplotlib>=1.4.0 in /usr/local/lib/python3.10/dist-packages (from scikit-plot==0.3.7) (3.7.1)\n",
            "Requirement already satisfied: scikit-learn>=0.18 in /usr/local/lib/python3.10/dist-packages (from scikit-plot==0.3.7) (1.2.2)\n",
            "Requirement already satisfied: scipy>=0.9 in /usr/local/lib/python3.10/dist-packages (from scikit-plot==0.3.7) (1.11.3)\n",
            "Requirement already satisfied: joblib>=0.10 in /usr/local/lib/python3.10/dist-packages (from scikit-plot==0.3.7) (1.3.2)\n",
            "Requirement already satisfied: contourpy>=1.0.1 in /usr/local/lib/python3.10/dist-packages (from matplotlib>=1.4.0->scikit-plot==0.3.7) (1.2.0)\n",
            "Requirement already satisfied: cycler>=0.10 in /usr/local/lib/python3.10/dist-packages (from matplotlib>=1.4.0->scikit-plot==0.3.7) (0.12.1)\n",
            "Requirement already satisfied: fonttools>=4.22.0 in /usr/local/lib/python3.10/dist-packages (from matplotlib>=1.4.0->scikit-plot==0.3.7) (4.44.3)\n",
            "Requirement already satisfied: kiwisolver>=1.0.1 in /usr/local/lib/python3.10/dist-packages (from matplotlib>=1.4.0->scikit-plot==0.3.7) (1.4.5)\n",
            "Requirement already satisfied: numpy>=1.20 in /usr/local/lib/python3.10/dist-packages (from matplotlib>=1.4.0->scikit-plot==0.3.7) (1.23.5)\n",
            "Requirement already satisfied: packaging>=20.0 in /usr/local/lib/python3.10/dist-packages (from matplotlib>=1.4.0->scikit-plot==0.3.7) (23.2)\n",
            "Requirement already satisfied: pillow>=6.2.0 in /usr/local/lib/python3.10/dist-packages (from matplotlib>=1.4.0->scikit-plot==0.3.7) (9.4.0)\n",
            "Requirement already satisfied: pyparsing>=2.3.1 in /usr/local/lib/python3.10/dist-packages (from matplotlib>=1.4.0->scikit-plot==0.3.7) (3.1.1)\n",
            "Requirement already satisfied: python-dateutil>=2.7 in /usr/local/lib/python3.10/dist-packages (from matplotlib>=1.4.0->scikit-plot==0.3.7) (2.8.2)\n",
            "Requirement already satisfied: threadpoolctl>=2.0.0 in /usr/local/lib/python3.10/dist-packages (from scikit-learn>=0.18->scikit-plot==0.3.7) (3.2.0)\n",
            "Requirement already satisfied: six>=1.5 in /usr/local/lib/python3.10/dist-packages (from python-dateutil>=2.7->matplotlib>=1.4.0->scikit-plot==0.3.7) (1.16.0)\n",
            "Requirement already satisfied: numpy in /usr/local/lib/python3.10/dist-packages (1.23.5)\n",
            "Skipping, found downloaded files in \"./food-delivery-time\" (use force=True to force download)\n"
          ]
        }
      ],
      "source": [
        "#imports\n",
        "!pip install opendatasets\n",
        "!pip install pandas\n",
        "!pip install seaborn\n",
        "!pip install scikit-plot==0.3.7\n",
        "!pip install numpy\n",
        "\n",
        "import opendatasets as od\n",
        "import pandas as pd\n",
        "import seaborn as sns\n",
        "import numpy as np\n",
        "\n",
        "od.download(\"https://www.kaggle.com/datasets/rajatkumar30/food-delivery-time\")"
      ]
    },
    {
      "cell_type": "markdown",
      "metadata": {
        "id": "9pXk7v0w6E07"
      },
      "source": [
        "\"username\":\"ashermcc\",\"key\":\"b65575bb4354cc59cecf3b7a2ca29443\""
      ]
    },
    {
      "cell_type": "markdown",
      "metadata": {
        "id": "Q2mrSZXulh_H"
      },
      "source": [
        "### Making the dataset a pandas dataframe"
      ]
    },
    {
      "cell_type": "code",
      "execution_count": 47,
      "metadata": {
        "id": "WTHS7kU2fhIk"
      },
      "outputs": [],
      "source": [
        "#reading the CSV file and putting it into a pandas df object\n",
        "df = pd.read_csv('/content/food-delivery-time/deliverytime.csv')\n"
      ]
    },
    {
      "cell_type": "markdown",
      "metadata": {
        "id": "tsY7523Olmvi"
      },
      "source": [
        "### Starting exploratory data analysis"
      ]
    },
    {
      "cell_type": "code",
      "execution_count": 48,
      "metadata": {
        "colab": {
          "base_uri": "https://localhost:8080/"
        },
        "id": "kDYgeYeelFyM",
        "outputId": "0b3d0514-8163-48bf-cb1c-4cb582762b99"
      },
      "outputs": [
        {
          "output_type": "stream",
          "name": "stdout",
          "text": [
            "<class 'pandas.core.frame.DataFrame'>\n",
            "RangeIndex: 45593 entries, 0 to 45592\n",
            "Data columns (total 11 columns):\n",
            " #   Column                       Non-Null Count  Dtype  \n",
            "---  ------                       --------------  -----  \n",
            " 0   ID                           45593 non-null  object \n",
            " 1   Delivery_person_ID           45593 non-null  object \n",
            " 2   Delivery_person_Age          45593 non-null  int64  \n",
            " 3   Delivery_person_Ratings      45593 non-null  float64\n",
            " 4   Restaurant_latitude          45593 non-null  float64\n",
            " 5   Restaurant_longitude         45593 non-null  float64\n",
            " 6   Delivery_location_latitude   45593 non-null  float64\n",
            " 7   Delivery_location_longitude  45593 non-null  float64\n",
            " 8   Type_of_order                45593 non-null  object \n",
            " 9   Type_of_vehicle              45593 non-null  object \n",
            " 10  Time_taken(min)              45593 non-null  int64  \n",
            "dtypes: float64(5), int64(2), object(4)\n",
            "memory usage: 3.8+ MB\n"
          ]
        }
      ],
      "source": [
        "\n",
        "#.info shows information about column names and their respective data types\n",
        "df.info()"
      ]
    },
    {
      "cell_type": "code",
      "execution_count": 49,
      "metadata": {
        "colab": {
          "base_uri": "https://localhost:8080/"
        },
        "id": "DKlUufUuEiAD",
        "outputId": "3d133b77-c11b-4c61-d1fb-f50f5630be0b"
      },
      "outputs": [
        {
          "output_type": "execute_result",
          "data": {
            "text/plain": [
              "(45593, 11)"
            ]
          },
          "metadata": {},
          "execution_count": 49
        }
      ],
      "source": [
        "#.shape returns the number of rows and columns\n",
        "df.shape"
      ]
    },
    {
      "cell_type": "code",
      "execution_count": 50,
      "metadata": {
        "colab": {
          "base_uri": "https://localhost:8080/",
          "height": 300
        },
        "id": "mvVehTmWJGWQ",
        "outputId": "1a16ecf4-cae7-44e2-afae-c47310e724b1"
      },
      "outputs": [
        {
          "output_type": "execute_result",
          "data": {
            "text/plain": [
              "       Delivery_person_Age  Delivery_person_Ratings  Restaurant_latitude  \\\n",
              "count         45593.000000             45593.000000         45593.000000   \n",
              "mean             29.544075                 4.632367            17.017729   \n",
              "std               5.696793                 0.327708             8.185109   \n",
              "min              15.000000                 1.000000           -30.905562   \n",
              "25%              25.000000                 4.600000            12.933284   \n",
              "50%              29.000000                 4.700000            18.546947   \n",
              "75%              34.000000                 4.800000            22.728163   \n",
              "max              50.000000                 6.000000            30.914057   \n",
              "\n",
              "       Restaurant_longitude  Delivery_location_latitude  \\\n",
              "count          45593.000000                45593.000000   \n",
              "mean              70.231332                   17.465186   \n",
              "std               22.883647                    7.335122   \n",
              "min              -88.366217                    0.010000   \n",
              "25%               73.170000                   12.988453   \n",
              "50%               75.898497                   18.633934   \n",
              "75%               78.044095                   22.785049   \n",
              "max               88.433452                   31.054057   \n",
              "\n",
              "       Delivery_location_longitude  Time_taken(min)  \n",
              "count                 45593.000000     45593.000000  \n",
              "mean                     70.845702        26.294607  \n",
              "std                      21.118812         9.383806  \n",
              "min                       0.010000        10.000000  \n",
              "25%                      73.280000        19.000000  \n",
              "50%                      76.002574        26.000000  \n",
              "75%                      78.107044        32.000000  \n",
              "max                      88.563452        54.000000  "
            ],
            "text/html": [
              "\n",
              "  <div id=\"df-4bf29a3b-be37-410c-89a1-9d14af45059f\" class=\"colab-df-container\">\n",
              "    <div>\n",
              "<style scoped>\n",
              "    .dataframe tbody tr th:only-of-type {\n",
              "        vertical-align: middle;\n",
              "    }\n",
              "\n",
              "    .dataframe tbody tr th {\n",
              "        vertical-align: top;\n",
              "    }\n",
              "\n",
              "    .dataframe thead th {\n",
              "        text-align: right;\n",
              "    }\n",
              "</style>\n",
              "<table border=\"1\" class=\"dataframe\">\n",
              "  <thead>\n",
              "    <tr style=\"text-align: right;\">\n",
              "      <th></th>\n",
              "      <th>Delivery_person_Age</th>\n",
              "      <th>Delivery_person_Ratings</th>\n",
              "      <th>Restaurant_latitude</th>\n",
              "      <th>Restaurant_longitude</th>\n",
              "      <th>Delivery_location_latitude</th>\n",
              "      <th>Delivery_location_longitude</th>\n",
              "      <th>Time_taken(min)</th>\n",
              "    </tr>\n",
              "  </thead>\n",
              "  <tbody>\n",
              "    <tr>\n",
              "      <th>count</th>\n",
              "      <td>45593.000000</td>\n",
              "      <td>45593.000000</td>\n",
              "      <td>45593.000000</td>\n",
              "      <td>45593.000000</td>\n",
              "      <td>45593.000000</td>\n",
              "      <td>45593.000000</td>\n",
              "      <td>45593.000000</td>\n",
              "    </tr>\n",
              "    <tr>\n",
              "      <th>mean</th>\n",
              "      <td>29.544075</td>\n",
              "      <td>4.632367</td>\n",
              "      <td>17.017729</td>\n",
              "      <td>70.231332</td>\n",
              "      <td>17.465186</td>\n",
              "      <td>70.845702</td>\n",
              "      <td>26.294607</td>\n",
              "    </tr>\n",
              "    <tr>\n",
              "      <th>std</th>\n",
              "      <td>5.696793</td>\n",
              "      <td>0.327708</td>\n",
              "      <td>8.185109</td>\n",
              "      <td>22.883647</td>\n",
              "      <td>7.335122</td>\n",
              "      <td>21.118812</td>\n",
              "      <td>9.383806</td>\n",
              "    </tr>\n",
              "    <tr>\n",
              "      <th>min</th>\n",
              "      <td>15.000000</td>\n",
              "      <td>1.000000</td>\n",
              "      <td>-30.905562</td>\n",
              "      <td>-88.366217</td>\n",
              "      <td>0.010000</td>\n",
              "      <td>0.010000</td>\n",
              "      <td>10.000000</td>\n",
              "    </tr>\n",
              "    <tr>\n",
              "      <th>25%</th>\n",
              "      <td>25.000000</td>\n",
              "      <td>4.600000</td>\n",
              "      <td>12.933284</td>\n",
              "      <td>73.170000</td>\n",
              "      <td>12.988453</td>\n",
              "      <td>73.280000</td>\n",
              "      <td>19.000000</td>\n",
              "    </tr>\n",
              "    <tr>\n",
              "      <th>50%</th>\n",
              "      <td>29.000000</td>\n",
              "      <td>4.700000</td>\n",
              "      <td>18.546947</td>\n",
              "      <td>75.898497</td>\n",
              "      <td>18.633934</td>\n",
              "      <td>76.002574</td>\n",
              "      <td>26.000000</td>\n",
              "    </tr>\n",
              "    <tr>\n",
              "      <th>75%</th>\n",
              "      <td>34.000000</td>\n",
              "      <td>4.800000</td>\n",
              "      <td>22.728163</td>\n",
              "      <td>78.044095</td>\n",
              "      <td>22.785049</td>\n",
              "      <td>78.107044</td>\n",
              "      <td>32.000000</td>\n",
              "    </tr>\n",
              "    <tr>\n",
              "      <th>max</th>\n",
              "      <td>50.000000</td>\n",
              "      <td>6.000000</td>\n",
              "      <td>30.914057</td>\n",
              "      <td>88.433452</td>\n",
              "      <td>31.054057</td>\n",
              "      <td>88.563452</td>\n",
              "      <td>54.000000</td>\n",
              "    </tr>\n",
              "  </tbody>\n",
              "</table>\n",
              "</div>\n",
              "    <div class=\"colab-df-buttons\">\n",
              "\n",
              "  <div class=\"colab-df-container\">\n",
              "    <button class=\"colab-df-convert\" onclick=\"convertToInteractive('df-4bf29a3b-be37-410c-89a1-9d14af45059f')\"\n",
              "            title=\"Convert this dataframe to an interactive table.\"\n",
              "            style=\"display:none;\">\n",
              "\n",
              "  <svg xmlns=\"http://www.w3.org/2000/svg\" height=\"24px\" viewBox=\"0 -960 960 960\">\n",
              "    <path d=\"M120-120v-720h720v720H120Zm60-500h600v-160H180v160Zm220 220h160v-160H400v160Zm0 220h160v-160H400v160ZM180-400h160v-160H180v160Zm440 0h160v-160H620v160ZM180-180h160v-160H180v160Zm440 0h160v-160H620v160Z\"/>\n",
              "  </svg>\n",
              "    </button>\n",
              "\n",
              "  <style>\n",
              "    .colab-df-container {\n",
              "      display:flex;\n",
              "      gap: 12px;\n",
              "    }\n",
              "\n",
              "    .colab-df-convert {\n",
              "      background-color: #E8F0FE;\n",
              "      border: none;\n",
              "      border-radius: 50%;\n",
              "      cursor: pointer;\n",
              "      display: none;\n",
              "      fill: #1967D2;\n",
              "      height: 32px;\n",
              "      padding: 0 0 0 0;\n",
              "      width: 32px;\n",
              "    }\n",
              "\n",
              "    .colab-df-convert:hover {\n",
              "      background-color: #E2EBFA;\n",
              "      box-shadow: 0px 1px 2px rgba(60, 64, 67, 0.3), 0px 1px 3px 1px rgba(60, 64, 67, 0.15);\n",
              "      fill: #174EA6;\n",
              "    }\n",
              "\n",
              "    .colab-df-buttons div {\n",
              "      margin-bottom: 4px;\n",
              "    }\n",
              "\n",
              "    [theme=dark] .colab-df-convert {\n",
              "      background-color: #3B4455;\n",
              "      fill: #D2E3FC;\n",
              "    }\n",
              "\n",
              "    [theme=dark] .colab-df-convert:hover {\n",
              "      background-color: #434B5C;\n",
              "      box-shadow: 0px 1px 3px 1px rgba(0, 0, 0, 0.15);\n",
              "      filter: drop-shadow(0px 1px 2px rgba(0, 0, 0, 0.3));\n",
              "      fill: #FFFFFF;\n",
              "    }\n",
              "  </style>\n",
              "\n",
              "    <script>\n",
              "      const buttonEl =\n",
              "        document.querySelector('#df-4bf29a3b-be37-410c-89a1-9d14af45059f button.colab-df-convert');\n",
              "      buttonEl.style.display =\n",
              "        google.colab.kernel.accessAllowed ? 'block' : 'none';\n",
              "\n",
              "      async function convertToInteractive(key) {\n",
              "        const element = document.querySelector('#df-4bf29a3b-be37-410c-89a1-9d14af45059f');\n",
              "        const dataTable =\n",
              "          await google.colab.kernel.invokeFunction('convertToInteractive',\n",
              "                                                    [key], {});\n",
              "        if (!dataTable) return;\n",
              "\n",
              "        const docLinkHtml = 'Like what you see? Visit the ' +\n",
              "          '<a target=\"_blank\" href=https://colab.research.google.com/notebooks/data_table.ipynb>data table notebook</a>'\n",
              "          + ' to learn more about interactive tables.';\n",
              "        element.innerHTML = '';\n",
              "        dataTable['output_type'] = 'display_data';\n",
              "        await google.colab.output.renderOutput(dataTable, element);\n",
              "        const docLink = document.createElement('div');\n",
              "        docLink.innerHTML = docLinkHtml;\n",
              "        element.appendChild(docLink);\n",
              "      }\n",
              "    </script>\n",
              "  </div>\n",
              "\n",
              "\n",
              "<div id=\"df-4fe2243f-8d96-4d60-84f5-615092c3930f\">\n",
              "  <button class=\"colab-df-quickchart\" onclick=\"quickchart('df-4fe2243f-8d96-4d60-84f5-615092c3930f')\"\n",
              "            title=\"Suggest charts\"\n",
              "            style=\"display:none;\">\n",
              "\n",
              "<svg xmlns=\"http://www.w3.org/2000/svg\" height=\"24px\"viewBox=\"0 0 24 24\"\n",
              "     width=\"24px\">\n",
              "    <g>\n",
              "        <path d=\"M19 3H5c-1.1 0-2 .9-2 2v14c0 1.1.9 2 2 2h14c1.1 0 2-.9 2-2V5c0-1.1-.9-2-2-2zM9 17H7v-7h2v7zm4 0h-2V7h2v10zm4 0h-2v-4h2v4z\"/>\n",
              "    </g>\n",
              "</svg>\n",
              "  </button>\n",
              "\n",
              "<style>\n",
              "  .colab-df-quickchart {\n",
              "      --bg-color: #E8F0FE;\n",
              "      --fill-color: #1967D2;\n",
              "      --hover-bg-color: #E2EBFA;\n",
              "      --hover-fill-color: #174EA6;\n",
              "      --disabled-fill-color: #AAA;\n",
              "      --disabled-bg-color: #DDD;\n",
              "  }\n",
              "\n",
              "  [theme=dark] .colab-df-quickchart {\n",
              "      --bg-color: #3B4455;\n",
              "      --fill-color: #D2E3FC;\n",
              "      --hover-bg-color: #434B5C;\n",
              "      --hover-fill-color: #FFFFFF;\n",
              "      --disabled-bg-color: #3B4455;\n",
              "      --disabled-fill-color: #666;\n",
              "  }\n",
              "\n",
              "  .colab-df-quickchart {\n",
              "    background-color: var(--bg-color);\n",
              "    border: none;\n",
              "    border-radius: 50%;\n",
              "    cursor: pointer;\n",
              "    display: none;\n",
              "    fill: var(--fill-color);\n",
              "    height: 32px;\n",
              "    padding: 0;\n",
              "    width: 32px;\n",
              "  }\n",
              "\n",
              "  .colab-df-quickchart:hover {\n",
              "    background-color: var(--hover-bg-color);\n",
              "    box-shadow: 0 1px 2px rgba(60, 64, 67, 0.3), 0 1px 3px 1px rgba(60, 64, 67, 0.15);\n",
              "    fill: var(--button-hover-fill-color);\n",
              "  }\n",
              "\n",
              "  .colab-df-quickchart-complete:disabled,\n",
              "  .colab-df-quickchart-complete:disabled:hover {\n",
              "    background-color: var(--disabled-bg-color);\n",
              "    fill: var(--disabled-fill-color);\n",
              "    box-shadow: none;\n",
              "  }\n",
              "\n",
              "  .colab-df-spinner {\n",
              "    border: 2px solid var(--fill-color);\n",
              "    border-color: transparent;\n",
              "    border-bottom-color: var(--fill-color);\n",
              "    animation:\n",
              "      spin 1s steps(1) infinite;\n",
              "  }\n",
              "\n",
              "  @keyframes spin {\n",
              "    0% {\n",
              "      border-color: transparent;\n",
              "      border-bottom-color: var(--fill-color);\n",
              "      border-left-color: var(--fill-color);\n",
              "    }\n",
              "    20% {\n",
              "      border-color: transparent;\n",
              "      border-left-color: var(--fill-color);\n",
              "      border-top-color: var(--fill-color);\n",
              "    }\n",
              "    30% {\n",
              "      border-color: transparent;\n",
              "      border-left-color: var(--fill-color);\n",
              "      border-top-color: var(--fill-color);\n",
              "      border-right-color: var(--fill-color);\n",
              "    }\n",
              "    40% {\n",
              "      border-color: transparent;\n",
              "      border-right-color: var(--fill-color);\n",
              "      border-top-color: var(--fill-color);\n",
              "    }\n",
              "    60% {\n",
              "      border-color: transparent;\n",
              "      border-right-color: var(--fill-color);\n",
              "    }\n",
              "    80% {\n",
              "      border-color: transparent;\n",
              "      border-right-color: var(--fill-color);\n",
              "      border-bottom-color: var(--fill-color);\n",
              "    }\n",
              "    90% {\n",
              "      border-color: transparent;\n",
              "      border-bottom-color: var(--fill-color);\n",
              "    }\n",
              "  }\n",
              "</style>\n",
              "\n",
              "  <script>\n",
              "    async function quickchart(key) {\n",
              "      const quickchartButtonEl =\n",
              "        document.querySelector('#' + key + ' button');\n",
              "      quickchartButtonEl.disabled = true;  // To prevent multiple clicks.\n",
              "      quickchartButtonEl.classList.add('colab-df-spinner');\n",
              "      try {\n",
              "        const charts = await google.colab.kernel.invokeFunction(\n",
              "            'suggestCharts', [key], {});\n",
              "      } catch (error) {\n",
              "        console.error('Error during call to suggestCharts:', error);\n",
              "      }\n",
              "      quickchartButtonEl.classList.remove('colab-df-spinner');\n",
              "      quickchartButtonEl.classList.add('colab-df-quickchart-complete');\n",
              "    }\n",
              "    (() => {\n",
              "      let quickchartButtonEl =\n",
              "        document.querySelector('#df-4fe2243f-8d96-4d60-84f5-615092c3930f button');\n",
              "      quickchartButtonEl.style.display =\n",
              "        google.colab.kernel.accessAllowed ? 'block' : 'none';\n",
              "    })();\n",
              "  </script>\n",
              "</div>\n",
              "    </div>\n",
              "  </div>\n"
            ]
          },
          "metadata": {},
          "execution_count": 50
        }
      ],
      "source": [
        "#.describe shows information on all numerical attributes\n",
        "df.describe()"
      ]
    },
    {
      "cell_type": "code",
      "execution_count": 51,
      "metadata": {
        "colab": {
          "base_uri": "https://localhost:8080/",
          "height": 226
        },
        "id": "6ZWjQNzVl2xa",
        "outputId": "47daf50c-f18a-435c-f43b-6285aecf49bf"
      },
      "outputs": [
        {
          "output_type": "execute_result",
          "data": {
            "text/plain": [
              "     ID Delivery_person_ID  Delivery_person_Age  Delivery_person_Ratings  \\\n",
              "0  4607     INDORES13DEL02                   37                      4.9   \n",
              "1  B379     BANGRES18DEL02                   34                      4.5   \n",
              "2  5D6D     BANGRES19DEL01                   23                      4.4   \n",
              "3  7A6A    COIMBRES13DEL02                   38                      4.7   \n",
              "4  70A2     CHENRES12DEL01                   32                      4.6   \n",
              "\n",
              "   Restaurant_latitude  Restaurant_longitude  Delivery_location_latitude  \\\n",
              "0            22.745049             75.892471                   22.765049   \n",
              "1            12.913041             77.683237                   13.043041   \n",
              "2            12.914264             77.678400                   12.924264   \n",
              "3            11.003669             76.976494                   11.053669   \n",
              "4            12.972793             80.249982                   13.012793   \n",
              "\n",
              "   Delivery_location_longitude Type_of_order Type_of_vehicle  Time_taken(min)  \n",
              "0                    75.912471        Snack      motorcycle                24  \n",
              "1                    77.813237        Snack         scooter                33  \n",
              "2                    77.688400       Drinks      motorcycle                26  \n",
              "3                    77.026494       Buffet      motorcycle                21  \n",
              "4                    80.289982        Snack         scooter                30  "
            ],
            "text/html": [
              "\n",
              "  <div id=\"df-c8b50318-6eec-4905-a5a4-89c8ddde4cab\" class=\"colab-df-container\">\n",
              "    <div>\n",
              "<style scoped>\n",
              "    .dataframe tbody tr th:only-of-type {\n",
              "        vertical-align: middle;\n",
              "    }\n",
              "\n",
              "    .dataframe tbody tr th {\n",
              "        vertical-align: top;\n",
              "    }\n",
              "\n",
              "    .dataframe thead th {\n",
              "        text-align: right;\n",
              "    }\n",
              "</style>\n",
              "<table border=\"1\" class=\"dataframe\">\n",
              "  <thead>\n",
              "    <tr style=\"text-align: right;\">\n",
              "      <th></th>\n",
              "      <th>ID</th>\n",
              "      <th>Delivery_person_ID</th>\n",
              "      <th>Delivery_person_Age</th>\n",
              "      <th>Delivery_person_Ratings</th>\n",
              "      <th>Restaurant_latitude</th>\n",
              "      <th>Restaurant_longitude</th>\n",
              "      <th>Delivery_location_latitude</th>\n",
              "      <th>Delivery_location_longitude</th>\n",
              "      <th>Type_of_order</th>\n",
              "      <th>Type_of_vehicle</th>\n",
              "      <th>Time_taken(min)</th>\n",
              "    </tr>\n",
              "  </thead>\n",
              "  <tbody>\n",
              "    <tr>\n",
              "      <th>0</th>\n",
              "      <td>4607</td>\n",
              "      <td>INDORES13DEL02</td>\n",
              "      <td>37</td>\n",
              "      <td>4.9</td>\n",
              "      <td>22.745049</td>\n",
              "      <td>75.892471</td>\n",
              "      <td>22.765049</td>\n",
              "      <td>75.912471</td>\n",
              "      <td>Snack</td>\n",
              "      <td>motorcycle</td>\n",
              "      <td>24</td>\n",
              "    </tr>\n",
              "    <tr>\n",
              "      <th>1</th>\n",
              "      <td>B379</td>\n",
              "      <td>BANGRES18DEL02</td>\n",
              "      <td>34</td>\n",
              "      <td>4.5</td>\n",
              "      <td>12.913041</td>\n",
              "      <td>77.683237</td>\n",
              "      <td>13.043041</td>\n",
              "      <td>77.813237</td>\n",
              "      <td>Snack</td>\n",
              "      <td>scooter</td>\n",
              "      <td>33</td>\n",
              "    </tr>\n",
              "    <tr>\n",
              "      <th>2</th>\n",
              "      <td>5D6D</td>\n",
              "      <td>BANGRES19DEL01</td>\n",
              "      <td>23</td>\n",
              "      <td>4.4</td>\n",
              "      <td>12.914264</td>\n",
              "      <td>77.678400</td>\n",
              "      <td>12.924264</td>\n",
              "      <td>77.688400</td>\n",
              "      <td>Drinks</td>\n",
              "      <td>motorcycle</td>\n",
              "      <td>26</td>\n",
              "    </tr>\n",
              "    <tr>\n",
              "      <th>3</th>\n",
              "      <td>7A6A</td>\n",
              "      <td>COIMBRES13DEL02</td>\n",
              "      <td>38</td>\n",
              "      <td>4.7</td>\n",
              "      <td>11.003669</td>\n",
              "      <td>76.976494</td>\n",
              "      <td>11.053669</td>\n",
              "      <td>77.026494</td>\n",
              "      <td>Buffet</td>\n",
              "      <td>motorcycle</td>\n",
              "      <td>21</td>\n",
              "    </tr>\n",
              "    <tr>\n",
              "      <th>4</th>\n",
              "      <td>70A2</td>\n",
              "      <td>CHENRES12DEL01</td>\n",
              "      <td>32</td>\n",
              "      <td>4.6</td>\n",
              "      <td>12.972793</td>\n",
              "      <td>80.249982</td>\n",
              "      <td>13.012793</td>\n",
              "      <td>80.289982</td>\n",
              "      <td>Snack</td>\n",
              "      <td>scooter</td>\n",
              "      <td>30</td>\n",
              "    </tr>\n",
              "  </tbody>\n",
              "</table>\n",
              "</div>\n",
              "    <div class=\"colab-df-buttons\">\n",
              "\n",
              "  <div class=\"colab-df-container\">\n",
              "    <button class=\"colab-df-convert\" onclick=\"convertToInteractive('df-c8b50318-6eec-4905-a5a4-89c8ddde4cab')\"\n",
              "            title=\"Convert this dataframe to an interactive table.\"\n",
              "            style=\"display:none;\">\n",
              "\n",
              "  <svg xmlns=\"http://www.w3.org/2000/svg\" height=\"24px\" viewBox=\"0 -960 960 960\">\n",
              "    <path d=\"M120-120v-720h720v720H120Zm60-500h600v-160H180v160Zm220 220h160v-160H400v160Zm0 220h160v-160H400v160ZM180-400h160v-160H180v160Zm440 0h160v-160H620v160ZM180-180h160v-160H180v160Zm440 0h160v-160H620v160Z\"/>\n",
              "  </svg>\n",
              "    </button>\n",
              "\n",
              "  <style>\n",
              "    .colab-df-container {\n",
              "      display:flex;\n",
              "      gap: 12px;\n",
              "    }\n",
              "\n",
              "    .colab-df-convert {\n",
              "      background-color: #E8F0FE;\n",
              "      border: none;\n",
              "      border-radius: 50%;\n",
              "      cursor: pointer;\n",
              "      display: none;\n",
              "      fill: #1967D2;\n",
              "      height: 32px;\n",
              "      padding: 0 0 0 0;\n",
              "      width: 32px;\n",
              "    }\n",
              "\n",
              "    .colab-df-convert:hover {\n",
              "      background-color: #E2EBFA;\n",
              "      box-shadow: 0px 1px 2px rgba(60, 64, 67, 0.3), 0px 1px 3px 1px rgba(60, 64, 67, 0.15);\n",
              "      fill: #174EA6;\n",
              "    }\n",
              "\n",
              "    .colab-df-buttons div {\n",
              "      margin-bottom: 4px;\n",
              "    }\n",
              "\n",
              "    [theme=dark] .colab-df-convert {\n",
              "      background-color: #3B4455;\n",
              "      fill: #D2E3FC;\n",
              "    }\n",
              "\n",
              "    [theme=dark] .colab-df-convert:hover {\n",
              "      background-color: #434B5C;\n",
              "      box-shadow: 0px 1px 3px 1px rgba(0, 0, 0, 0.15);\n",
              "      filter: drop-shadow(0px 1px 2px rgba(0, 0, 0, 0.3));\n",
              "      fill: #FFFFFF;\n",
              "    }\n",
              "  </style>\n",
              "\n",
              "    <script>\n",
              "      const buttonEl =\n",
              "        document.querySelector('#df-c8b50318-6eec-4905-a5a4-89c8ddde4cab button.colab-df-convert');\n",
              "      buttonEl.style.display =\n",
              "        google.colab.kernel.accessAllowed ? 'block' : 'none';\n",
              "\n",
              "      async function convertToInteractive(key) {\n",
              "        const element = document.querySelector('#df-c8b50318-6eec-4905-a5a4-89c8ddde4cab');\n",
              "        const dataTable =\n",
              "          await google.colab.kernel.invokeFunction('convertToInteractive',\n",
              "                                                    [key], {});\n",
              "        if (!dataTable) return;\n",
              "\n",
              "        const docLinkHtml = 'Like what you see? Visit the ' +\n",
              "          '<a target=\"_blank\" href=https://colab.research.google.com/notebooks/data_table.ipynb>data table notebook</a>'\n",
              "          + ' to learn more about interactive tables.';\n",
              "        element.innerHTML = '';\n",
              "        dataTable['output_type'] = 'display_data';\n",
              "        await google.colab.output.renderOutput(dataTable, element);\n",
              "        const docLink = document.createElement('div');\n",
              "        docLink.innerHTML = docLinkHtml;\n",
              "        element.appendChild(docLink);\n",
              "      }\n",
              "    </script>\n",
              "  </div>\n",
              "\n",
              "\n",
              "<div id=\"df-bb9c67ca-daa7-4708-8e4e-30517c6e6a4b\">\n",
              "  <button class=\"colab-df-quickchart\" onclick=\"quickchart('df-bb9c67ca-daa7-4708-8e4e-30517c6e6a4b')\"\n",
              "            title=\"Suggest charts\"\n",
              "            style=\"display:none;\">\n",
              "\n",
              "<svg xmlns=\"http://www.w3.org/2000/svg\" height=\"24px\"viewBox=\"0 0 24 24\"\n",
              "     width=\"24px\">\n",
              "    <g>\n",
              "        <path d=\"M19 3H5c-1.1 0-2 .9-2 2v14c0 1.1.9 2 2 2h14c1.1 0 2-.9 2-2V5c0-1.1-.9-2-2-2zM9 17H7v-7h2v7zm4 0h-2V7h2v10zm4 0h-2v-4h2v4z\"/>\n",
              "    </g>\n",
              "</svg>\n",
              "  </button>\n",
              "\n",
              "<style>\n",
              "  .colab-df-quickchart {\n",
              "      --bg-color: #E8F0FE;\n",
              "      --fill-color: #1967D2;\n",
              "      --hover-bg-color: #E2EBFA;\n",
              "      --hover-fill-color: #174EA6;\n",
              "      --disabled-fill-color: #AAA;\n",
              "      --disabled-bg-color: #DDD;\n",
              "  }\n",
              "\n",
              "  [theme=dark] .colab-df-quickchart {\n",
              "      --bg-color: #3B4455;\n",
              "      --fill-color: #D2E3FC;\n",
              "      --hover-bg-color: #434B5C;\n",
              "      --hover-fill-color: #FFFFFF;\n",
              "      --disabled-bg-color: #3B4455;\n",
              "      --disabled-fill-color: #666;\n",
              "  }\n",
              "\n",
              "  .colab-df-quickchart {\n",
              "    background-color: var(--bg-color);\n",
              "    border: none;\n",
              "    border-radius: 50%;\n",
              "    cursor: pointer;\n",
              "    display: none;\n",
              "    fill: var(--fill-color);\n",
              "    height: 32px;\n",
              "    padding: 0;\n",
              "    width: 32px;\n",
              "  }\n",
              "\n",
              "  .colab-df-quickchart:hover {\n",
              "    background-color: var(--hover-bg-color);\n",
              "    box-shadow: 0 1px 2px rgba(60, 64, 67, 0.3), 0 1px 3px 1px rgba(60, 64, 67, 0.15);\n",
              "    fill: var(--button-hover-fill-color);\n",
              "  }\n",
              "\n",
              "  .colab-df-quickchart-complete:disabled,\n",
              "  .colab-df-quickchart-complete:disabled:hover {\n",
              "    background-color: var(--disabled-bg-color);\n",
              "    fill: var(--disabled-fill-color);\n",
              "    box-shadow: none;\n",
              "  }\n",
              "\n",
              "  .colab-df-spinner {\n",
              "    border: 2px solid var(--fill-color);\n",
              "    border-color: transparent;\n",
              "    border-bottom-color: var(--fill-color);\n",
              "    animation:\n",
              "      spin 1s steps(1) infinite;\n",
              "  }\n",
              "\n",
              "  @keyframes spin {\n",
              "    0% {\n",
              "      border-color: transparent;\n",
              "      border-bottom-color: var(--fill-color);\n",
              "      border-left-color: var(--fill-color);\n",
              "    }\n",
              "    20% {\n",
              "      border-color: transparent;\n",
              "      border-left-color: var(--fill-color);\n",
              "      border-top-color: var(--fill-color);\n",
              "    }\n",
              "    30% {\n",
              "      border-color: transparent;\n",
              "      border-left-color: var(--fill-color);\n",
              "      border-top-color: var(--fill-color);\n",
              "      border-right-color: var(--fill-color);\n",
              "    }\n",
              "    40% {\n",
              "      border-color: transparent;\n",
              "      border-right-color: var(--fill-color);\n",
              "      border-top-color: var(--fill-color);\n",
              "    }\n",
              "    60% {\n",
              "      border-color: transparent;\n",
              "      border-right-color: var(--fill-color);\n",
              "    }\n",
              "    80% {\n",
              "      border-color: transparent;\n",
              "      border-right-color: var(--fill-color);\n",
              "      border-bottom-color: var(--fill-color);\n",
              "    }\n",
              "    90% {\n",
              "      border-color: transparent;\n",
              "      border-bottom-color: var(--fill-color);\n",
              "    }\n",
              "  }\n",
              "</style>\n",
              "\n",
              "  <script>\n",
              "    async function quickchart(key) {\n",
              "      const quickchartButtonEl =\n",
              "        document.querySelector('#' + key + ' button');\n",
              "      quickchartButtonEl.disabled = true;  // To prevent multiple clicks.\n",
              "      quickchartButtonEl.classList.add('colab-df-spinner');\n",
              "      try {\n",
              "        const charts = await google.colab.kernel.invokeFunction(\n",
              "            'suggestCharts', [key], {});\n",
              "      } catch (error) {\n",
              "        console.error('Error during call to suggestCharts:', error);\n",
              "      }\n",
              "      quickchartButtonEl.classList.remove('colab-df-spinner');\n",
              "      quickchartButtonEl.classList.add('colab-df-quickchart-complete');\n",
              "    }\n",
              "    (() => {\n",
              "      let quickchartButtonEl =\n",
              "        document.querySelector('#df-bb9c67ca-daa7-4708-8e4e-30517c6e6a4b button');\n",
              "      quickchartButtonEl.style.display =\n",
              "        google.colab.kernel.accessAllowed ? 'block' : 'none';\n",
              "    })();\n",
              "  </script>\n",
              "</div>\n",
              "    </div>\n",
              "  </div>\n"
            ]
          },
          "metadata": {},
          "execution_count": 51
        }
      ],
      "source": [
        "#.head shows the first five rows of the dataset\n",
        "df.head()"
      ]
    },
    {
      "cell_type": "code",
      "execution_count": 52,
      "metadata": {
        "colab": {
          "base_uri": "https://localhost:8080/",
          "height": 1000
        },
        "id": "xBthsw1GMR8D",
        "outputId": "22307d55-1959-4354-d97f-3e5510e897c8"
      },
      "outputs": [
        {
          "output_type": "execute_result",
          "data": {
            "text/plain": [
              "array([[<Axes: title={'center': 'Delivery_person_Age'}>,\n",
              "        <Axes: title={'center': 'Delivery_person_Ratings'}>,\n",
              "        <Axes: title={'center': 'Restaurant_latitude'}>],\n",
              "       [<Axes: title={'center': 'Restaurant_longitude'}>,\n",
              "        <Axes: title={'center': 'Delivery_location_latitude'}>,\n",
              "        <Axes: title={'center': 'Delivery_location_longitude'}>],\n",
              "       [<Axes: title={'center': 'Time_taken(min)'}>, <Axes: >, <Axes: >]],\n",
              "      dtype=object)"
            ]
          },
          "metadata": {},
          "execution_count": 52
        },
        {
          "output_type": "display_data",
          "data": {
            "text/plain": [
              "<Figure size 2400x1600 with 9 Axes>"
            ],
            "image/png": "[encoded data removed]"
          },
          "metadata": {}
        }
      ],
      "source": [
        "#.hist displays a histogram of all numerical attributes\n",
        "df.hist(figsize=(24, 16))"
      ]
    },
    {
      "cell_type": "code",
      "execution_count": 53,
      "metadata": {
        "colab": {
          "base_uri": "https://localhost:8080/",
          "height": 467
        },
        "id": "UymOVIznPSAa",
        "outputId": "61f0f827-13b5-486f-dd74-f1bda1381594"
      },
      "outputs": [
        {
          "output_type": "execute_result",
          "data": {
            "text/plain": [
              "<Axes: xlabel='Type_of_vehicle', ylabel='count'>"
            ]
          },
          "metadata": {},
          "execution_count": 53
        },
        {
          "output_type": "display_data",
          "data": {
            "text/plain": [
              "<Figure size 640x480 with 1 Axes>"
            ],
            "image/png": "[encoded data removed]"
          },
          "metadata": {}
        }
      ],
      "source": [
        "#.countplot shows the number of occurences of a specific categorical attribute\n",
        "sns.countplot(data = df, x = 'Type_of_vehicle')"
      ]
    },
    {
      "cell_type": "code",
      "execution_count": 54,
      "metadata": {
        "colab": {
          "base_uri": "https://localhost:8080/",
          "height": 469
        },
        "id": "NdMRLNUWScoT",
        "outputId": "d24dd679-c5c5-4848-9efa-d03c3a64caa6"
      },
      "outputs": [
        {
          "output_type": "execute_result",
          "data": {
            "text/plain": [
              "<Axes: xlabel='Type_of_order', ylabel='count'>"
            ]
          },
          "metadata": {},
          "execution_count": 54
        },
        {
          "output_type": "display_data",
          "data": {
            "text/plain": [
              "<Figure size 640x480 with 1 Axes>"
            ],
            "image/png": "[encoded data removed]"
          },
          "metadata": {}
        }
      ],
      "source": [
        "sns.countplot(data = df, x = 'Type_of_order')"
      ]
    },
    {
      "cell_type": "code",
      "execution_count": 55,
      "metadata": {
        "colab": {
          "base_uri": "https://localhost:8080/",
          "height": 467
        },
        "id": "bBP3d1nRTZXi",
        "outputId": "91afab9d-8c0c-4bf7-8f4d-e17b57d2a4c9"
      },
      "outputs": [
        {
          "output_type": "execute_result",
          "data": {
            "text/plain": [
              "<Axes: xlabel='Type_of_order', ylabel='Time_taken(min)'>"
            ]
          },
          "metadata": {},
          "execution_count": 55
        },
        {
          "output_type": "display_data",
          "data": {
            "text/plain": [
              "<Figure size 640x480 with 1 Axes>"
            ],
            "image/png": "[encoded data removed]"
          },
          "metadata": {}
        }
      ],
      "source": [
        "#.boxplot puts categorical and numerical attributes on the same dimension. here we are using it to compare it to our target attributes\n",
        "sns.boxplot(data = df, x = 'Type_of_order', y = 'Time_taken(min)')"
      ]
    },
    {
      "cell_type": "code",
      "execution_count": 56,
      "metadata": {
        "colab": {
          "base_uri": "https://localhost:8080/",
          "height": 467
        },
        "id": "ynqdsLEMUAfk",
        "outputId": "1a6646e4-73a6-4e96-f8ec-bc4ca1b447b4"
      },
      "outputs": [
        {
          "output_type": "execute_result",
          "data": {
            "text/plain": [
              "<Axes: xlabel='Type_of_vehicle', ylabel='Time_taken(min)'>"
            ]
          },
          "metadata": {},
          "execution_count": 56
        },
        {
          "output_type": "display_data",
          "data": {
            "text/plain": [
              "<Figure size 640x480 with 1 Axes>"
            ],
            "image/png": "[encoded data removed]"
          },
          "metadata": {}
        }
      ],
      "source": [
        "sns.boxplot(data = df, x = 'Type_of_vehicle', y = 'Time_taken(min)')"
      ]
    },
    {
      "cell_type": "code",
      "execution_count": 57,
      "metadata": {
        "colab": {
          "base_uri": "https://localhost:8080/"
        },
        "id": "KfOuJix1uXtm",
        "outputId": "20b92b3c-69d1-4ce2-b2bf-2c2f1bb872c9"
      },
      "outputs": [
        {
          "output_type": "execute_result",
          "data": {
            "text/plain": [
              "4071"
            ]
          },
          "metadata": {},
          "execution_count": 57
        }
      ],
      "source": [
        "df['Restaurant_latitude'].lt(1).sum()#for some reason, if a datapoint has an aberrant longditude value, it's either in the restaurant latitude section, or in both the restaurant latitude section and somewhere else\n",
        "#so checking restaurant latitude is akin to checking all coordinates\n"
      ]
    },
    {
      "cell_type": "code",
      "execution_count": 58,
      "metadata": {
        "colab": {
          "base_uri": "https://localhost:8080/"
        },
        "id": "6BrPLGjBN-2P",
        "outputId": "7fdc8b8d-cf20-4912-c377-fe92b29d770d"
      },
      "outputs": [
        {
          "output_type": "execute_result",
          "data": {
            "text/plain": [
              "3640"
            ]
          },
          "metadata": {},
          "execution_count": 58
        }
      ],
      "source": [
        "df['Delivery_location_longitude'].lt(1).sum()"
      ]
    },
    {
      "cell_type": "markdown",
      "metadata": {
        "id": "erlOJXET95s9"
      },
      "source": [
        "### Removing problematic values\n",
        "\n",
        "This must be done before splitting the target and feature data, so the whole datapoint is removed at once"
      ]
    },
    {
      "cell_type": "code",
      "execution_count": 59,
      "metadata": {
        "id": "JACkU3LdOGJ6"
      },
      "outputs": [],
      "source": [
        "df_rlat_cleaned = df.copy() #makes a clean version of the data, fully removing any examples of latitude/longditude combinations that make little sense\n",
        "df_rlat_cleaned.drop(df_rlat_cleaned[df_rlat_cleaned['Restaurant_latitude'] < 1].index, inplace = True)\n",
        "df_rlat_cleaned=df_rlat_cleaned.reset_index() #you have no idea how much trouble this gave me before i realized i needed to do this, and how to do it"
      ]
    },
    {
      "cell_type": "code",
      "execution_count": 60,
      "metadata": {
        "colab": {
          "base_uri": "https://localhost:8080/"
        },
        "id": "0hywl5J1PN6I",
        "outputId": "a7c14390-8fda-4b14-dbd0-0e6c3352ce35"
      },
      "outputs": [
        {
          "output_type": "execute_result",
          "data": {
            "text/plain": [
              "0"
            ]
          },
          "metadata": {},
          "execution_count": 60
        }
      ],
      "source": [
        "df_rlat_cleaned['Restaurant_latitude'].lt(1).sum() #removes the 4071 cases of aberrant coordinates"
      ]
    },
    {
      "cell_type": "markdown",
      "metadata": {
        "id": "TBEznvaOr2ZP"
      },
      "source": [
        "### Feature engineering\n",
        "\n",
        "Using the equirectangular approximation to give a measure of the distance from the restaurant to the delivery site"
      ]
    },
    {
      "cell_type": "code",
      "execution_count": 61,
      "metadata": {
        "id": "rbAgbTKhsLHE"
      },
      "outputs": [],
      "source": [
        "from numpy import sqrt\n",
        "df_rlat_cleaned['lat_dif'] = 0\n",
        "df_rlat_cleaned['long_dif'] = 0\n",
        "df_rlat_cleaned['pyth_dif'] = 0\n",
        "\n",
        "for index,row in df_rlat_cleaned.iterrows():\n",
        "  a = abs(row['Restaurant_latitude']-row['Delivery_location_latitude'])\n",
        "  df_rlat_cleaned.loc[index,'lat_dif'] = a\n",
        "  b = abs(row['Restaurant_longitude']-row['Delivery_location_longitude'])\n",
        "  df_rlat_cleaned.loc[index,'long_dif'] = b\n",
        "  df_rlat_cleaned.loc[index,'pyth_dif'] = sqrt(a**2+b**2)\n"
      ]
    },
    {
      "cell_type": "code",
      "execution_count": 62,
      "metadata": {
        "colab": {
          "base_uri": "https://localhost:8080/",
          "height": 226
        },
        "id": "8bZ7aJ6Oxaj6",
        "outputId": "229e0c45-9ad6-44e0-be24-fbd2984e2efb"
      },
      "outputs": [
        {
          "output_type": "execute_result",
          "data": {
            "text/plain": [
              "   index    ID Delivery_person_ID  Delivery_person_Age  \\\n",
              "0      0  4607     INDORES13DEL02                   37   \n",
              "1      1  B379     BANGRES18DEL02                   34   \n",
              "2      2  5D6D     BANGRES19DEL01                   23   \n",
              "3      3  7A6A    COIMBRES13DEL02                   38   \n",
              "4      4  70A2     CHENRES12DEL01                   32   \n",
              "\n",
              "   Delivery_person_Ratings  Restaurant_latitude  Restaurant_longitude  \\\n",
              "0                      4.9            22.745049             75.892471   \n",
              "1                      4.5            12.913041             77.683237   \n",
              "2                      4.4            12.914264             77.678400   \n",
              "3                      4.7            11.003669             76.976494   \n",
              "4                      4.6            12.972793             80.249982   \n",
              "\n",
              "   Delivery_location_latitude  Delivery_location_longitude Type_of_order  \\\n",
              "0                   22.765049                    75.912471        Snack    \n",
              "1                   13.043041                    77.813237        Snack    \n",
              "2                   12.924264                    77.688400       Drinks    \n",
              "3                   11.053669                    77.026494       Buffet    \n",
              "4                   13.012793                    80.289982        Snack    \n",
              "\n",
              "  Type_of_vehicle  Time_taken(min)  lat_dif  long_dif  pyth_dif  \n",
              "0     motorcycle                24     0.02      0.02  0.028284  \n",
              "1        scooter                33     0.13      0.13  0.183848  \n",
              "2     motorcycle                26     0.01      0.01  0.014142  \n",
              "3     motorcycle                21     0.05      0.05  0.070711  \n",
              "4        scooter                30     0.04      0.04  0.056569  "
            ],
            "text/html": [
              "\n",
              "  <div id=\"df-bd1df578-0421-4aa9-9e08-b29955a6b5a1\" class=\"colab-df-container\">\n",
              "    <div>\n",
              "<style scoped>\n",
              "    .dataframe tbody tr th:only-of-type {\n",
              "        vertical-align: middle;\n",
              "    }\n",
              "\n",
              "    .dataframe tbody tr th {\n",
              "        vertical-align: top;\n",
              "    }\n",
              "\n",
              "    .dataframe thead th {\n",
              "        text-align: right;\n",
              "    }\n",
              "</style>\n",
              "<table border=\"1\" class=\"dataframe\">\n",
              "  <thead>\n",
              "    <tr style=\"text-align: right;\">\n",
              "      <th></th>\n",
              "      <th>index</th>\n",
              "      <th>ID</th>\n",
              "      <th>Delivery_person_ID</th>\n",
              "      <th>Delivery_person_Age</th>\n",
              "      <th>Delivery_person_Ratings</th>\n",
              "      <th>Restaurant_latitude</th>\n",
              "      <th>Restaurant_longitude</th>\n",
              "      <th>Delivery_location_latitude</th>\n",
              "      <th>Delivery_location_longitude</th>\n",
              "      <th>Type_of_order</th>\n",
              "      <th>Type_of_vehicle</th>\n",
              "      <th>Time_taken(min)</th>\n",
              "      <th>lat_dif</th>\n",
              "      <th>long_dif</th>\n",
              "      <th>pyth_dif</th>\n",
              "    </tr>\n",
              "  </thead>\n",
              "  <tbody>\n",
              "    <tr>\n",
              "      <th>0</th>\n",
              "      <td>0</td>\n",
              "      <td>4607</td>\n",
              "      <td>INDORES13DEL02</td>\n",
              "      <td>37</td>\n",
              "      <td>4.9</td>\n",
              "      <td>22.745049</td>\n",
              "      <td>75.892471</td>\n",
              "      <td>22.765049</td>\n",
              "      <td>75.912471</td>\n",
              "      <td>Snack</td>\n",
              "      <td>motorcycle</td>\n",
              "      <td>24</td>\n",
              "      <td>0.02</td>\n",
              "      <td>0.02</td>\n",
              "      <td>0.028284</td>\n",
              "    </tr>\n",
              "    <tr>\n",
              "      <th>1</th>\n",
              "      <td>1</td>\n",
              "      <td>B379</td>\n",
              "      <td>BANGRES18DEL02</td>\n",
              "      <td>34</td>\n",
              "      <td>4.5</td>\n",
              "      <td>12.913041</td>\n",
              "      <td>77.683237</td>\n",
              "      <td>13.043041</td>\n",
              "      <td>77.813237</td>\n",
              "      <td>Snack</td>\n",
              "      <td>scooter</td>\n",
              "      <td>33</td>\n",
              "      <td>0.13</td>\n",
              "      <td>0.13</td>\n",
              "      <td>0.183848</td>\n",
              "    </tr>\n",
              "    <tr>\n",
              "      <th>2</th>\n",
              "      <td>2</td>\n",
              "      <td>5D6D</td>\n",
              "      <td>BANGRES19DEL01</td>\n",
              "      <td>23</td>\n",
              "      <td>4.4</td>\n",
              "      <td>12.914264</td>\n",
              "      <td>77.678400</td>\n",
              "      <td>12.924264</td>\n",
              "      <td>77.688400</td>\n",
              "      <td>Drinks</td>\n",
              "      <td>motorcycle</td>\n",
              "      <td>26</td>\n",
              "      <td>0.01</td>\n",
              "      <td>0.01</td>\n",
              "      <td>0.014142</td>\n",
              "    </tr>\n",
              "    <tr>\n",
              "      <th>3</th>\n",
              "      <td>3</td>\n",
              "      <td>7A6A</td>\n",
              "      <td>COIMBRES13DEL02</td>\n",
              "      <td>38</td>\n",
              "      <td>4.7</td>\n",
              "      <td>11.003669</td>\n",
              "      <td>76.976494</td>\n",
              "      <td>11.053669</td>\n",
              "      <td>77.026494</td>\n",
              "      <td>Buffet</td>\n",
              "      <td>motorcycle</td>\n",
              "      <td>21</td>\n",
              "      <td>0.05</td>\n",
              "      <td>0.05</td>\n",
              "      <td>0.070711</td>\n",
              "    </tr>\n",
              "    <tr>\n",
              "      <th>4</th>\n",
              "      <td>4</td>\n",
              "      <td>70A2</td>\n",
              "      <td>CHENRES12DEL01</td>\n",
              "      <td>32</td>\n",
              "      <td>4.6</td>\n",
              "      <td>12.972793</td>\n",
              "      <td>80.249982</td>\n",
              "      <td>13.012793</td>\n",
              "      <td>80.289982</td>\n",
              "      <td>Snack</td>\n",
              "      <td>scooter</td>\n",
              "      <td>30</td>\n",
              "      <td>0.04</td>\n",
              "      <td>0.04</td>\n",
              "      <td>0.056569</td>\n",
              "    </tr>\n",
              "  </tbody>\n",
              "</table>\n",
              "</div>\n",
              "    <div class=\"colab-df-buttons\">\n",
              "\n",
              "  <div class=\"colab-df-container\">\n",
              "    <button class=\"colab-df-convert\" onclick=\"convertToInteractive('df-bd1df578-0421-4aa9-9e08-b29955a6b5a1')\"\n",
              "            title=\"Convert this dataframe to an interactive table.\"\n",
              "            style=\"display:none;\">\n",
              "\n",
              "  <svg xmlns=\"http://www.w3.org/2000/svg\" height=\"24px\" viewBox=\"0 -960 960 960\">\n",
              "    <path d=\"M120-120v-720h720v720H120Zm60-500h600v-160H180v160Zm220 220h160v-160H400v160Zm0 220h160v-160H400v160ZM180-400h160v-160H180v160Zm440 0h160v-160H620v160ZM180-180h160v-160H180v160Zm440 0h160v-160H620v160Z\"/>\n",
              "  </svg>\n",
              "    </button>\n",
              "\n",
              "  <style>\n",
              "    .colab-df-container {\n",
              "      display:flex;\n",
              "      gap: 12px;\n",
              "    }\n",
              "\n",
              "    .colab-df-convert {\n",
              "      background-color: #E8F0FE;\n",
              "      border: none;\n",
              "      border-radius: 50%;\n",
              "      cursor: pointer;\n",
              "      display: none;\n",
              "      fill: #1967D2;\n",
              "      height: 32px;\n",
              "      padding: 0 0 0 0;\n",
              "      width: 32px;\n",
              "    }\n",
              "\n",
              "    .colab-df-convert:hover {\n",
              "      background-color: #E2EBFA;\n",
              "      box-shadow: 0px 1px 2px rgba(60, 64, 67, 0.3), 0px 1px 3px 1px rgba(60, 64, 67, 0.15);\n",
              "      fill: #174EA6;\n",
              "    }\n",
              "\n",
              "    .colab-df-buttons div {\n",
              "      margin-bottom: 4px;\n",
              "    }\n",
              "\n",
              "    [theme=dark] .colab-df-convert {\n",
              "      background-color: #3B4455;\n",
              "      fill: #D2E3FC;\n",
              "    }\n",
              "\n",
              "    [theme=dark] .colab-df-convert:hover {\n",
              "      background-color: #434B5C;\n",
              "      box-shadow: 0px 1px 3px 1px rgba(0, 0, 0, 0.15);\n",
              "      filter: drop-shadow(0px 1px 2px rgba(0, 0, 0, 0.3));\n",
              "      fill: #FFFFFF;\n",
              "    }\n",
              "  </style>\n",
              "\n",
              "    <script>\n",
              "      const buttonEl =\n",
              "        document.querySelector('#df-bd1df578-0421-4aa9-9e08-b29955a6b5a1 button.colab-df-convert');\n",
              "      buttonEl.style.display =\n",
              "        google.colab.kernel.accessAllowed ? 'block' : 'none';\n",
              "\n",
              "      async function convertToInteractive(key) {\n",
              "        const element = document.querySelector('#df-bd1df578-0421-4aa9-9e08-b29955a6b5a1');\n",
              "        const dataTable =\n",
              "          await google.colab.kernel.invokeFunction('convertToInteractive',\n",
              "                                                    [key], {});\n",
              "        if (!dataTable) return;\n",
              "\n",
              "        const docLinkHtml = 'Like what you see? Visit the ' +\n",
              "          '<a target=\"_blank\" href=https://colab.research.google.com/notebooks/data_table.ipynb>data table notebook</a>'\n",
              "          + ' to learn more about interactive tables.';\n",
              "        element.innerHTML = '';\n",
              "        dataTable['output_type'] = 'display_data';\n",
              "        await google.colab.output.renderOutput(dataTable, element);\n",
              "        const docLink = document.createElement('div');\n",
              "        docLink.innerHTML = docLinkHtml;\n",
              "        element.appendChild(docLink);\n",
              "      }\n",
              "    </script>\n",
              "  </div>\n",
              "\n",
              "\n",
              "<div id=\"df-3f4c2dec-769b-433b-9d4f-1fb3f83c6842\">\n",
              "  <button class=\"colab-df-quickchart\" onclick=\"quickchart('df-3f4c2dec-769b-433b-9d4f-1fb3f83c6842')\"\n",
              "            title=\"Suggest charts\"\n",
              "            style=\"display:none;\">\n",
              "\n",
              "<svg xmlns=\"http://www.w3.org/2000/svg\" height=\"24px\"viewBox=\"0 0 24 24\"\n",
              "     width=\"24px\">\n",
              "    <g>\n",
              "        <path d=\"M19 3H5c-1.1 0-2 .9-2 2v14c0 1.1.9 2 2 2h14c1.1 0 2-.9 2-2V5c0-1.1-.9-2-2-2zM9 17H7v-7h2v7zm4 0h-2V7h2v10zm4 0h-2v-4h2v4z\"/>\n",
              "    </g>\n",
              "</svg>\n",
              "  </button>\n",
              "\n",
              "<style>\n",
              "  .colab-df-quickchart {\n",
              "      --bg-color: #E8F0FE;\n",
              "      --fill-color: #1967D2;\n",
              "      --hover-bg-color: #E2EBFA;\n",
              "      --hover-fill-color: #174EA6;\n",
              "      --disabled-fill-color: #AAA;\n",
              "      --disabled-bg-color: #DDD;\n",
              "  }\n",
              "\n",
              "  [theme=dark] .colab-df-quickchart {\n",
              "      --bg-color: #3B4455;\n",
              "      --fill-color: #D2E3FC;\n",
              "      --hover-bg-color: #434B5C;\n",
              "      --hover-fill-color: #FFFFFF;\n",
              "      --disabled-bg-color: #3B4455;\n",
              "      --disabled-fill-color: #666;\n",
              "  }\n",
              "\n",
              "  .colab-df-quickchart {\n",
              "    background-color: var(--bg-color);\n",
              "    border: none;\n",
              "    border-radius: 50%;\n",
              "    cursor: pointer;\n",
              "    display: none;\n",
              "    fill: var(--fill-color);\n",
              "    height: 32px;\n",
              "    padding: 0;\n",
              "    width: 32px;\n",
              "  }\n",
              "\n",
              "  .colab-df-quickchart:hover {\n",
              "    background-color: var(--hover-bg-color);\n",
              "    box-shadow: 0 1px 2px rgba(60, 64, 67, 0.3), 0 1px 3px 1px rgba(60, 64, 67, 0.15);\n",
              "    fill: var(--button-hover-fill-color);\n",
              "  }\n",
              "\n",
              "  .colab-df-quickchart-complete:disabled,\n",
              "  .colab-df-quickchart-complete:disabled:hover {\n",
              "    background-color: var(--disabled-bg-color);\n",
              "    fill: var(--disabled-fill-color);\n",
              "    box-shadow: none;\n",
              "  }\n",
              "\n",
              "  .colab-df-spinner {\n",
              "    border: 2px solid var(--fill-color);\n",
              "    border-color: transparent;\n",
              "    border-bottom-color: var(--fill-color);\n",
              "    animation:\n",
              "      spin 1s steps(1) infinite;\n",
              "  }\n",
              "\n",
              "  @keyframes spin {\n",
              "    0% {\n",
              "      border-color: transparent;\n",
              "      border-bottom-color: var(--fill-color);\n",
              "      border-left-color: var(--fill-color);\n",
              "    }\n",
              "    20% {\n",
              "      border-color: transparent;\n",
              "      border-left-color: var(--fill-color);\n",
              "      border-top-color: var(--fill-color);\n",
              "    }\n",
              "    30% {\n",
              "      border-color: transparent;\n",
              "      border-left-color: var(--fill-color);\n",
              "      border-top-color: var(--fill-color);\n",
              "      border-right-color: var(--fill-color);\n",
              "    }\n",
              "    40% {\n",
              "      border-color: transparent;\n",
              "      border-right-color: var(--fill-color);\n",
              "      border-top-color: var(--fill-color);\n",
              "    }\n",
              "    60% {\n",
              "      border-color: transparent;\n",
              "      border-right-color: var(--fill-color);\n",
              "    }\n",
              "    80% {\n",
              "      border-color: transparent;\n",
              "      border-right-color: var(--fill-color);\n",
              "      border-bottom-color: var(--fill-color);\n",
              "    }\n",
              "    90% {\n",
              "      border-color: transparent;\n",
              "      border-bottom-color: var(--fill-color);\n",
              "    }\n",
              "  }\n",
              "</style>\n",
              "\n",
              "  <script>\n",
              "    async function quickchart(key) {\n",
              "      const quickchartButtonEl =\n",
              "        document.querySelector('#' + key + ' button');\n",
              "      quickchartButtonEl.disabled = true;  // To prevent multiple clicks.\n",
              "      quickchartButtonEl.classList.add('colab-df-spinner');\n",
              "      try {\n",
              "        const charts = await google.colab.kernel.invokeFunction(\n",
              "            'suggestCharts', [key], {});\n",
              "      } catch (error) {\n",
              "        console.error('Error during call to suggestCharts:', error);\n",
              "      }\n",
              "      quickchartButtonEl.classList.remove('colab-df-spinner');\n",
              "      quickchartButtonEl.classList.add('colab-df-quickchart-complete');\n",
              "    }\n",
              "    (() => {\n",
              "      let quickchartButtonEl =\n",
              "        document.querySelector('#df-3f4c2dec-769b-433b-9d4f-1fb3f83c6842 button');\n",
              "      quickchartButtonEl.style.display =\n",
              "        google.colab.kernel.accessAllowed ? 'block' : 'none';\n",
              "    })();\n",
              "  </script>\n",
              "</div>\n",
              "    </div>\n",
              "  </div>\n"
            ]
          },
          "metadata": {},
          "execution_count": 62
        }
      ],
      "source": [
        "#outputting the cleaned data\n",
        "df_rlat_cleaned.head()"
      ]
    },
    {
      "cell_type": "markdown",
      "metadata": {
        "id": "isn4kN3EXjZ4"
      },
      "source": [
        "### Split into target and feature\n",
        "y=target (delivery time), X=feature (everything else)"
      ]
    },
    {
      "cell_type": "code",
      "execution_count": 63,
      "metadata": {
        "id": "sGGEwDWjY3fG"
      },
      "outputs": [],
      "source": [
        "#splitting into target and feature variables\n",
        "y=pd.DataFrame(df_rlat_cleaned['Time_taken(min)'])\n",
        "X=df_rlat_cleaned.drop('Time_taken(min)',axis=1)"
      ]
    },
    {
      "cell_type": "markdown",
      "metadata": {
        "id": "kI4ikLnh-QyR"
      },
      "source": [
        "### Data Preprocessing\n",
        "\n",
        "Scale numeric data, one hot encode categorical data, remove ID numbers, as they are irrelevant and interfere with one hot encoding"
      ]
    },
    {
      "cell_type": "code",
      "execution_count": 64,
      "metadata": {
        "colab": {
          "base_uri": "https://localhost:8080/"
        },
        "id": "l2mbzcUa7c6j",
        "outputId": "38e9cb17-7a41-4788-deb0-4f4b4a29d4b5"
      },
      "outputs": [
        {
          "output_type": "stream",
          "name": "stdout",
          "text": [
            "(41522, 18)\n"
          ]
        }
      ],
      "source": [
        "# much of the code here is loosely based on the code from my (asher mccready) assignment 2\n",
        "from sklearn.preprocessing import StandardScaler\n",
        "from sklearn.preprocessing import OneHotEncoder\n",
        "X_prepared = X.copy(); #version of x to be processed\n",
        "\n",
        "X_prepared.drop('ID',axis=1,inplace=True)\n",
        "X_prepared.drop('Delivery_person_ID',axis=1,inplace=True)\n",
        "\n",
        "scaler = StandardScaler()\n",
        "encoder = OneHotEncoder(sparse_output=False)\n",
        "numcol = X_prepared.select_dtypes('number').columns\n",
        "catcol = X_prepared.select_dtypes('object').columns\n",
        "\n",
        "\n",
        "for c in numcol:\n",
        "  X_prepared[c]=scaler.fit_transform(X_prepared[c].to_numpy().reshape(-1,1))\n",
        "\n",
        "enc_cat = pd.DataFrame(encoder.fit_transform(X_prepared[catcol]))\n",
        "\n",
        "X_prepared = X_prepared.join(enc_cat)\n",
        "\n",
        "for c in catcol:\n",
        " X_prepared.drop(c,axis=1,inplace=True)\n",
        "\n",
        "print(X_prepared.shape)\n",
        "\n",
        "X_prepared.columns = X_prepared.columns.astype(str)"
      ]
    },
    {
      "cell_type": "code",
      "execution_count": 65,
      "metadata": {
        "colab": {
          "base_uri": "https://localhost:8080/"
        },
        "id": "q49PzJC5O4p4",
        "outputId": "eb38932f-9146-43f2-87da-6ffc20d9d9aa"
      },
      "outputs": [
        {
          "output_type": "stream",
          "name": "stdout",
          "text": [
            "<class 'pandas.core.frame.DataFrame'>\n",
            "RangeIndex: 41522 entries, 0 to 41521\n",
            "Data columns (total 18 columns):\n",
            " #   Column                       Non-Null Count  Dtype  \n",
            "---  ------                       --------------  -----  \n",
            " 0   index                        41522 non-null  float64\n",
            " 1   Delivery_person_Age          41522 non-null  float64\n",
            " 2   Delivery_person_Ratings      41522 non-null  float64\n",
            " 3   Restaurant_latitude          41522 non-null  float64\n",
            " 4   Restaurant_longitude         41522 non-null  float64\n",
            " 5   Delivery_location_latitude   41522 non-null  float64\n",
            " 6   Delivery_location_longitude  41522 non-null  float64\n",
            " 7   lat_dif                      41522 non-null  float64\n",
            " 8   long_dif                     41522 non-null  float64\n",
            " 9   pyth_dif                     41522 non-null  float64\n",
            " 10  0                            41522 non-null  float64\n",
            " 11  1                            41522 non-null  float64\n",
            " 12  2                            41522 non-null  float64\n",
            " 13  3                            41522 non-null  float64\n",
            " 14  4                            41522 non-null  float64\n",
            " 15  5                            41522 non-null  float64\n",
            " 16  6                            41522 non-null  float64\n",
            " 17  7                            41522 non-null  float64\n",
            "dtypes: float64(18)\n",
            "memory usage: 5.7 MB\n"
          ]
        }
      ],
      "source": [
        "#outputting a summmary of X_prepared variable\n",
        "X_prepared.info()"
      ]
    },
    {
      "cell_type": "code",
      "execution_count": 66,
      "metadata": {
        "colab": {
          "base_uri": "https://localhost:8080/",
          "height": 226
        },
        "id": "fTh4NjpYPuCg",
        "outputId": "24d0a65b-718c-427f-e7c2-386110dd11da"
      },
      "outputs": [
        {
          "output_type": "execute_result",
          "data": {
            "text/plain": [
              "          index  Delivery_person_Age  Delivery_person_Ratings  \\\n",
              "41517  1.733103             0.960560                -1.334388   \n",
              "41518  1.733179             0.081604                 0.521661   \n",
              "41519  1.733331             0.081604                 0.831002   \n",
              "41520  1.733407            -1.676306                 0.212319   \n",
              "41521  1.733483            -1.148933                 0.831002   \n",
              "\n",
              "       Restaurant_latitude  Restaurant_longitude  Delivery_location_latitude  \\\n",
              "41517             0.819330              2.408568                    0.827541   \n",
              "41518             1.465925             -0.320639                    1.455616   \n",
              "41519            -1.075737              0.952751                   -1.081543   \n",
              "41520            -1.445753              0.020593                   -1.449606   \n",
              "41521             0.815624              2.407955                    0.818345   \n",
              "\n",
              "       Delivery_location_longitude   lat_dif  long_dif  pyth_dif    0    1  \\\n",
              "41517                     2.421707  1.260535  1.260535  1.260535  0.0  1.0   \n",
              "41518                    -0.335984 -1.459822 -1.459822 -1.459822  0.0  0.0   \n",
              "41519                     0.943065 -0.915751 -0.915751 -0.915751  0.0  1.0   \n",
              "41520                     0.013818 -0.643715 -0.643715 -0.643715  0.0  0.0   \n",
              "41521                     2.412507  0.444428  0.444428  0.444428  0.0  0.0   \n",
              "\n",
              "         2    3    4    5    6    7  \n",
              "41517  0.0  0.0  0.0  0.0  1.0  0.0  \n",
              "41518  1.0  0.0  0.0  0.0  1.0  0.0  \n",
              "41519  0.0  0.0  0.0  0.0  0.0  1.0  \n",
              "41520  0.0  1.0  0.0  0.0  1.0  0.0  \n",
              "41521  0.0  1.0  0.0  0.0  0.0  1.0  "
            ],
            "text/html": [
              "\n",
              "  <div id=\"df-492b4723-f0b0-48d9-a35e-8f848a1d8199\" class=\"colab-df-container\">\n",
              "    <div>\n",
              "<style scoped>\n",
              "    .dataframe tbody tr th:only-of-type {\n",
              "        vertical-align: middle;\n",
              "    }\n",
              "\n",
              "    .dataframe tbody tr th {\n",
              "        vertical-align: top;\n",
              "    }\n",
              "\n",
              "    .dataframe thead th {\n",
              "        text-align: right;\n",
              "    }\n",
              "</style>\n",
              "<table border=\"1\" class=\"dataframe\">\n",
              "  <thead>\n",
              "    <tr style=\"text-align: right;\">\n",
              "      <th></th>\n",
              "      <th>index</th>\n",
              "      <th>Delivery_person_Age</th>\n",
              "      <th>Delivery_person_Ratings</th>\n",
              "      <th>Restaurant_latitude</th>\n",
              "      <th>Restaurant_longitude</th>\n",
              "      <th>Delivery_location_latitude</th>\n",
              "      <th>Delivery_location_longitude</th>\n",
              "      <th>lat_dif</th>\n",
              "      <th>long_dif</th>\n",
              "      <th>pyth_dif</th>\n",
              "      <th>0</th>\n",
              "      <th>1</th>\n",
              "      <th>2</th>\n",
              "      <th>3</th>\n",
              "      <th>4</th>\n",
              "      <th>5</th>\n",
              "      <th>6</th>\n",
              "      <th>7</th>\n",
              "    </tr>\n",
              "  </thead>\n",
              "  <tbody>\n",
              "    <tr>\n",
              "      <th>41517</th>\n",
              "      <td>1.733103</td>\n",
              "      <td>0.960560</td>\n",
              "      <td>-1.334388</td>\n",
              "      <td>0.819330</td>\n",
              "      <td>2.408568</td>\n",
              "      <td>0.827541</td>\n",
              "      <td>2.421707</td>\n",
              "      <td>1.260535</td>\n",
              "      <td>1.260535</td>\n",
              "      <td>1.260535</td>\n",
              "      <td>0.0</td>\n",
              "      <td>1.0</td>\n",
              "      <td>0.0</td>\n",
              "      <td>0.0</td>\n",
              "      <td>0.0</td>\n",
              "      <td>0.0</td>\n",
              "      <td>1.0</td>\n",
              "      <td>0.0</td>\n",
              "    </tr>\n",
              "    <tr>\n",
              "      <th>41518</th>\n",
              "      <td>1.733179</td>\n",
              "      <td>0.081604</td>\n",
              "      <td>0.521661</td>\n",
              "      <td>1.465925</td>\n",
              "      <td>-0.320639</td>\n",
              "      <td>1.455616</td>\n",
              "      <td>-0.335984</td>\n",
              "      <td>-1.459822</td>\n",
              "      <td>-1.459822</td>\n",
              "      <td>-1.459822</td>\n",
              "      <td>0.0</td>\n",
              "      <td>0.0</td>\n",
              "      <td>1.0</td>\n",
              "      <td>0.0</td>\n",
              "      <td>0.0</td>\n",
              "      <td>0.0</td>\n",
              "      <td>1.0</td>\n",
              "      <td>0.0</td>\n",
              "    </tr>\n",
              "    <tr>\n",
              "      <th>41519</th>\n",
              "      <td>1.733331</td>\n",
              "      <td>0.081604</td>\n",
              "      <td>0.831002</td>\n",
              "      <td>-1.075737</td>\n",
              "      <td>0.952751</td>\n",
              "      <td>-1.081543</td>\n",
              "      <td>0.943065</td>\n",
              "      <td>-0.915751</td>\n",
              "      <td>-0.915751</td>\n",
              "      <td>-0.915751</td>\n",
              "      <td>0.0</td>\n",
              "      <td>1.0</td>\n",
              "      <td>0.0</td>\n",
              "      <td>0.0</td>\n",
              "      <td>0.0</td>\n",
              "      <td>0.0</td>\n",
              "      <td>0.0</td>\n",
              "      <td>1.0</td>\n",
              "    </tr>\n",
              "    <tr>\n",
              "      <th>41520</th>\n",
              "      <td>1.733407</td>\n",
              "      <td>-1.676306</td>\n",
              "      <td>0.212319</td>\n",
              "      <td>-1.445753</td>\n",
              "      <td>0.020593</td>\n",
              "      <td>-1.449606</td>\n",
              "      <td>0.013818</td>\n",
              "      <td>-0.643715</td>\n",
              "      <td>-0.643715</td>\n",
              "      <td>-0.643715</td>\n",
              "      <td>0.0</td>\n",
              "      <td>0.0</td>\n",
              "      <td>0.0</td>\n",
              "      <td>1.0</td>\n",
              "      <td>0.0</td>\n",
              "      <td>0.0</td>\n",
              "      <td>1.0</td>\n",
              "      <td>0.0</td>\n",
              "    </tr>\n",
              "    <tr>\n",
              "      <th>41521</th>\n",
              "      <td>1.733483</td>\n",
              "      <td>-1.148933</td>\n",
              "      <td>0.831002</td>\n",
              "      <td>0.815624</td>\n",
              "      <td>2.407955</td>\n",
              "      <td>0.818345</td>\n",
              "      <td>2.412507</td>\n",
              "      <td>0.444428</td>\n",
              "      <td>0.444428</td>\n",
              "      <td>0.444428</td>\n",
              "      <td>0.0</td>\n",
              "      <td>0.0</td>\n",
              "      <td>0.0</td>\n",
              "      <td>1.0</td>\n",
              "      <td>0.0</td>\n",
              "      <td>0.0</td>\n",
              "      <td>0.0</td>\n",
              "      <td>1.0</td>\n",
              "    </tr>\n",
              "  </tbody>\n",
              "</table>\n",
              "</div>\n",
              "    <div class=\"colab-df-buttons\">\n",
              "\n",
              "  <div class=\"colab-df-container\">\n",
              "    <button class=\"colab-df-convert\" onclick=\"convertToInteractive('df-492b4723-f0b0-48d9-a35e-8f848a1d8199')\"\n",
              "            title=\"Convert this dataframe to an interactive table.\"\n",
              "            style=\"display:none;\">\n",
              "\n",
              "  <svg xmlns=\"http://www.w3.org/2000/svg\" height=\"24px\" viewBox=\"0 -960 960 960\">\n",
              "    <path d=\"M120-120v-720h720v720H120Zm60-500h600v-160H180v160Zm220 220h160v-160H400v160Zm0 220h160v-160H400v160ZM180-400h160v-160H180v160Zm440 0h160v-160H620v160ZM180-180h160v-160H180v160Zm440 0h160v-160H620v160Z\"/>\n",
              "  </svg>\n",
              "    </button>\n",
              "\n",
              "  <style>\n",
              "    .colab-df-container {\n",
              "      display:flex;\n",
              "      gap: 12px;\n",
              "    }\n",
              "\n",
              "    .colab-df-convert {\n",
              "      background-color: #E8F0FE;\n",
              "      border: none;\n",
              "      border-radius: 50%;\n",
              "      cursor: pointer;\n",
              "      display: none;\n",
              "      fill: #1967D2;\n",
              "      height: 32px;\n",
              "      padding: 0 0 0 0;\n",
              "      width: 32px;\n",
              "    }\n",
              "\n",
              "    .colab-df-convert:hover {\n",
              "      background-color: #E2EBFA;\n",
              "      box-shadow: 0px 1px 2px rgba(60, 64, 67, 0.3), 0px 1px 3px 1px rgba(60, 64, 67, 0.15);\n",
              "      fill: #174EA6;\n",
              "    }\n",
              "\n",
              "    .colab-df-buttons div {\n",
              "      margin-bottom: 4px;\n",
              "    }\n",
              "\n",
              "    [theme=dark] .colab-df-convert {\n",
              "      background-color: #3B4455;\n",
              "      fill: #D2E3FC;\n",
              "    }\n",
              "\n",
              "    [theme=dark] .colab-df-convert:hover {\n",
              "      background-color: #434B5C;\n",
              "      box-shadow: 0px 1px 3px 1px rgba(0, 0, 0, 0.15);\n",
              "      filter: drop-shadow(0px 1px 2px rgba(0, 0, 0, 0.3));\n",
              "      fill: #FFFFFF;\n",
              "    }\n",
              "  </style>\n",
              "\n",
              "    <script>\n",
              "      const buttonEl =\n",
              "        document.querySelector('#df-492b4723-f0b0-48d9-a35e-8f848a1d8199 button.colab-df-convert');\n",
              "      buttonEl.style.display =\n",
              "        google.colab.kernel.accessAllowed ? 'block' : 'none';\n",
              "\n",
              "      async function convertToInteractive(key) {\n",
              "        const element = document.querySelector('#df-492b4723-f0b0-48d9-a35e-8f848a1d8199');\n",
              "        const dataTable =\n",
              "          await google.colab.kernel.invokeFunction('convertToInteractive',\n",
              "                                                    [key], {});\n",
              "        if (!dataTable) return;\n",
              "\n",
              "        const docLinkHtml = 'Like what you see? Visit the ' +\n",
              "          '<a target=\"_blank\" href=https://colab.research.google.com/notebooks/data_table.ipynb>data table notebook</a>'\n",
              "          + ' to learn more about interactive tables.';\n",
              "        element.innerHTML = '';\n",
              "        dataTable['output_type'] = 'display_data';\n",
              "        await google.colab.output.renderOutput(dataTable, element);\n",
              "        const docLink = document.createElement('div');\n",
              "        docLink.innerHTML = docLinkHtml;\n",
              "        element.appendChild(docLink);\n",
              "      }\n",
              "    </script>\n",
              "  </div>\n",
              "\n",
              "\n",
              "<div id=\"df-1cc6d258-ae84-46bf-9196-1e37056110bf\">\n",
              "  <button class=\"colab-df-quickchart\" onclick=\"quickchart('df-1cc6d258-ae84-46bf-9196-1e37056110bf')\"\n",
              "            title=\"Suggest charts\"\n",
              "            style=\"display:none;\">\n",
              "\n",
              "<svg xmlns=\"http://www.w3.org/2000/svg\" height=\"24px\"viewBox=\"0 0 24 24\"\n",
              "     width=\"24px\">\n",
              "    <g>\n",
              "        <path d=\"M19 3H5c-1.1 0-2 .9-2 2v14c0 1.1.9 2 2 2h14c1.1 0 2-.9 2-2V5c0-1.1-.9-2-2-2zM9 17H7v-7h2v7zm4 0h-2V7h2v10zm4 0h-2v-4h2v4z\"/>\n",
              "    </g>\n",
              "</svg>\n",
              "  </button>\n",
              "\n",
              "<style>\n",
              "  .colab-df-quickchart {\n",
              "      --bg-color: #E8F0FE;\n",
              "      --fill-color: #1967D2;\n",
              "      --hover-bg-color: #E2EBFA;\n",
              "      --hover-fill-color: #174EA6;\n",
              "      --disabled-fill-color: #AAA;\n",
              "      --disabled-bg-color: #DDD;\n",
              "  }\n",
              "\n",
              "  [theme=dark] .colab-df-quickchart {\n",
              "      --bg-color: #3B4455;\n",
              "      --fill-color: #D2E3FC;\n",
              "      --hover-bg-color: #434B5C;\n",
              "      --hover-fill-color: #FFFFFF;\n",
              "      --disabled-bg-color: #3B4455;\n",
              "      --disabled-fill-color: #666;\n",
              "  }\n",
              "\n",
              "  .colab-df-quickchart {\n",
              "    background-color: var(--bg-color);\n",
              "    border: none;\n",
              "    border-radius: 50%;\n",
              "    cursor: pointer;\n",
              "    display: none;\n",
              "    fill: var(--fill-color);\n",
              "    height: 32px;\n",
              "    padding: 0;\n",
              "    width: 32px;\n",
              "  }\n",
              "\n",
              "  .colab-df-quickchart:hover {\n",
              "    background-color: var(--hover-bg-color);\n",
              "    box-shadow: 0 1px 2px rgba(60, 64, 67, 0.3), 0 1px 3px 1px rgba(60, 64, 67, 0.15);\n",
              "    fill: var(--button-hover-fill-color);\n",
              "  }\n",
              "\n",
              "  .colab-df-quickchart-complete:disabled,\n",
              "  .colab-df-quickchart-complete:disabled:hover {\n",
              "    background-color: var(--disabled-bg-color);\n",
              "    fill: var(--disabled-fill-color);\n",
              "    box-shadow: none;\n",
              "  }\n",
              "\n",
              "  .colab-df-spinner {\n",
              "    border: 2px solid var(--fill-color);\n",
              "    border-color: transparent;\n",
              "    border-bottom-color: var(--fill-color);\n",
              "    animation:\n",
              "      spin 1s steps(1) infinite;\n",
              "  }\n",
              "\n",
              "  @keyframes spin {\n",
              "    0% {\n",
              "      border-color: transparent;\n",
              "      border-bottom-color: var(--fill-color);\n",
              "      border-left-color: var(--fill-color);\n",
              "    }\n",
              "    20% {\n",
              "      border-color: transparent;\n",
              "      border-left-color: var(--fill-color);\n",
              "      border-top-color: var(--fill-color);\n",
              "    }\n",
              "    30% {\n",
              "      border-color: transparent;\n",
              "      border-left-color: var(--fill-color);\n",
              "      border-top-color: var(--fill-color);\n",
              "      border-right-color: var(--fill-color);\n",
              "    }\n",
              "    40% {\n",
              "      border-color: transparent;\n",
              "      border-right-color: var(--fill-color);\n",
              "      border-top-color: var(--fill-color);\n",
              "    }\n",
              "    60% {\n",
              "      border-color: transparent;\n",
              "      border-right-color: var(--fill-color);\n",
              "    }\n",
              "    80% {\n",
              "      border-color: transparent;\n",
              "      border-right-color: var(--fill-color);\n",
              "      border-bottom-color: var(--fill-color);\n",
              "    }\n",
              "    90% {\n",
              "      border-color: transparent;\n",
              "      border-bottom-color: var(--fill-color);\n",
              "    }\n",
              "  }\n",
              "</style>\n",
              "\n",
              "  <script>\n",
              "    async function quickchart(key) {\n",
              "      const quickchartButtonEl =\n",
              "        document.querySelector('#' + key + ' button');\n",
              "      quickchartButtonEl.disabled = true;  // To prevent multiple clicks.\n",
              "      quickchartButtonEl.classList.add('colab-df-spinner');\n",
              "      try {\n",
              "        const charts = await google.colab.kernel.invokeFunction(\n",
              "            'suggestCharts', [key], {});\n",
              "      } catch (error) {\n",
              "        console.error('Error during call to suggestCharts:', error);\n",
              "      }\n",
              "      quickchartButtonEl.classList.remove('colab-df-spinner');\n",
              "      quickchartButtonEl.classList.add('colab-df-quickchart-complete');\n",
              "    }\n",
              "    (() => {\n",
              "      let quickchartButtonEl =\n",
              "        document.querySelector('#df-1cc6d258-ae84-46bf-9196-1e37056110bf button');\n",
              "      quickchartButtonEl.style.display =\n",
              "        google.colab.kernel.accessAllowed ? 'block' : 'none';\n",
              "    })();\n",
              "  </script>\n",
              "</div>\n",
              "    </div>\n",
              "  </div>\n"
            ]
          },
          "metadata": {},
          "execution_count": 66
        }
      ],
      "source": [
        "#.tail outputs the last 5 values in the dataset\n",
        "X_prepared.tail()"
      ]
    },
    {
      "cell_type": "markdown",
      "metadata": {
        "id": "Ol6CiQTYDl4Q"
      },
      "source": [
        "### Splitting the data into 80% training, 20% testing set"
      ]
    },
    {
      "cell_type": "code",
      "execution_count": 67,
      "metadata": {
        "colab": {
          "base_uri": "https://localhost:8080/"
        },
        "id": "xUOdLhEEEK8a",
        "outputId": "f6912eec-c7e3-4087-aa83-dde4d723d780"
      },
      "outputs": [
        {
          "output_type": "stream",
          "name": "stdout",
          "text": [
            "(33217, 18) (8305, 18) (33217, 1) (8305, 1)\n"
          ]
        }
      ],
      "source": [
        "#splitting the data into 80% training, 20% testing, from Asher McCready assignment 2\n",
        "from sklearn.model_selection import train_test_split\n",
        "X_train, X_test, y_train, y_test = train_test_split(X_prepared, y, test_size=0.2)\n",
        "print(X_train.shape, X_test.shape, y_train.shape, y_test.shape)"
      ]
    },
    {
      "cell_type": "markdown",
      "metadata": {
        "id": "6DdHk9a3WWtf"
      },
      "source": [
        "### Training\n"
      ]
    },
    {
      "cell_type": "markdown",
      "source": [
        "#### 1st model: Support Vector Regression (SVR)"
      ],
      "metadata": {
        "id": "ZE-U40huBBkb"
      }
    },
    {
      "cell_type": "code",
      "execution_count": 68,
      "metadata": {
        "colab": {
          "base_uri": "https://localhost:8080/",
          "height": 74
        },
        "id": "IJbLoFu6JrW5",
        "outputId": "af4c8d62-8a8a-45f5-f391-bc7bfa0f6f77"
      },
      "outputs": [
        {
          "output_type": "execute_result",
          "data": {
            "text/plain": [
              "SVR(C=10, gamma=0.01)"
            ],
            "text/html": [
              "<style>#sk-container-id-4 {color: black;background-color: white;}#sk-container-id-4 pre{padding: 0;}#sk-container-id-4 div.sk-toggleable {background-color: white;}#sk-container-id-4 label.sk-toggleable__label {cursor: pointer;display: block;width: 100%;margin-bottom: 0;padding: 0.3em;box-sizing: border-box;text-align: center;}#sk-container-id-4 label.sk-toggleable__label-arrow:before {content: \"▸\";float: left;margin-right: 0.25em;color: #696969;}#sk-container-id-4 label.sk-toggleable__label-arrow:hover:before {color: black;}#sk-container-id-4 div.sk-estimator:hover label.sk-toggleable__label-arrow:before {color: black;}#sk-container-id-4 div.sk-toggleable__content {max-height: 0;max-width: 0;overflow: hidden;text-align: left;background-color: #f0f8ff;}#sk-container-id-4 div.sk-toggleable__content pre {margin: 0.2em;color: black;border-radius: 0.25em;background-color: #f0f8ff;}#sk-container-id-4 input.sk-toggleable__control:checked~div.sk-toggleable__content {max-height: 200px;max-width: 100%;overflow: auto;}#sk-container-id-4 input.sk-toggleable__control:checked~label.sk-toggleable__label-arrow:before {content: \"▾\";}#sk-container-id-4 div.sk-estimator input.sk-toggleable__control:checked~label.sk-toggleable__label {background-color: #d4ebff;}#sk-container-id-4 div.sk-label input.sk-toggleable__control:checked~label.sk-toggleable__label {background-color: #d4ebff;}#sk-container-id-4 input.sk-hidden--visually {border: 0;clip: rect(1px 1px 1px 1px);clip: rect(1px, 1px, 1px, 1px);height: 1px;margin: -1px;overflow: hidden;padding: 0;position: absolute;width: 1px;}#sk-container-id-4 div.sk-estimator {font-family: monospace;background-color: #f0f8ff;border: 1px dotted black;border-radius: 0.25em;box-sizing: border-box;margin-bottom: 0.5em;}#sk-container-id-4 div.sk-estimator:hover {background-color: #d4ebff;}#sk-container-id-4 div.sk-parallel-item::after {content: \"\";width: 100%;border-bottom: 1px solid gray;flex-grow: 1;}#sk-container-id-4 div.sk-label:hover label.sk-toggleable__label {background-color: #d4ebff;}#sk-container-id-4 div.sk-serial::before {content: \"\";position: absolute;border-left: 1px solid gray;box-sizing: border-box;top: 0;bottom: 0;left: 50%;z-index: 0;}#sk-container-id-4 div.sk-serial {display: flex;flex-direction: column;align-items: center;background-color: white;padding-right: 0.2em;padding-left: 0.2em;position: relative;}#sk-container-id-4 div.sk-item {position: relative;z-index: 1;}#sk-container-id-4 div.sk-parallel {display: flex;align-items: stretch;justify-content: center;background-color: white;position: relative;}#sk-container-id-4 div.sk-item::before, #sk-container-id-4 div.sk-parallel-item::before {content: \"\";position: absolute;border-left: 1px solid gray;box-sizing: border-box;top: 0;bottom: 0;left: 50%;z-index: -1;}#sk-container-id-4 div.sk-parallel-item {display: flex;flex-direction: column;z-index: 1;position: relative;background-color: white;}#sk-container-id-4 div.sk-parallel-item:first-child::after {align-self: flex-end;width: 50%;}#sk-container-id-4 div.sk-parallel-item:last-child::after {align-self: flex-start;width: 50%;}#sk-container-id-4 div.sk-parallel-item:only-child::after {width: 0;}#sk-container-id-4 div.sk-dashed-wrapped {border: 1px dashed gray;margin: 0 0.4em 0.5em 0.4em;box-sizing: border-box;padding-bottom: 0.4em;background-color: white;}#sk-container-id-4 div.sk-label label {font-family: monospace;font-weight: bold;display: inline-block;line-height: 1.2em;}#sk-container-id-4 div.sk-label-container {text-align: center;}#sk-container-id-4 div.sk-container {/* jupyter's `normalize.less` sets `[hidden] { display: none; }` but bootstrap.min.css set `[hidden] { display: none !important; }` so we also need the `!important` here to be able to override the default hidden behavior on the sphinx rendered scikit-learn.org. See: https://github.com/scikit-learn/scikit-learn/issues/21755 */display: inline-block !important;position: relative;}#sk-container-id-4 div.sk-text-repr-fallback {display: none;}</style><div id=\"sk-container-id-4\" class=\"sk-top-container\"><div class=\"sk-text-repr-fallback\"><pre>SVR(C=10, gamma=0.01)</pre><b>In a Jupyter environment, please rerun this cell to show the HTML representation or trust the notebook. <br />On GitHub, the HTML representation is unable to render, please try loading this page with nbviewer.org.</b></div><div class=\"sk-container\" hidden><div class=\"sk-item\"><div class=\"sk-estimator sk-toggleable\"><input class=\"sk-toggleable__control sk-hidden--visually\" id=\"sk-estimator-id-4\" type=\"checkbox\" checked><label for=\"sk-estimator-id-4\" class=\"sk-toggleable__label sk-toggleable__label-arrow\">SVR</label><div class=\"sk-toggleable__content\"><pre>SVR(C=10, gamma=0.01)</pre></div></div></div></div></div>"
            ]
          },
          "metadata": {},
          "execution_count": 68
        }
      ],
      "source": [
        "#training the data using SVM model\n",
        "from sklearn.svm import SVR\n",
        "model_svm = SVR(C=10, gamma=0.01) #from assignment 2\n",
        "model_svm.fit(X_train, y_train.values.ravel())"
      ]
    },
    {
      "cell_type": "code",
      "execution_count": 69,
      "metadata": {
        "id": "KQXMkondWT8O"
      },
      "outputs": [],
      "source": [
        "y_predict = model_svm.predict(X_test)"
      ]
    },
    {
      "cell_type": "markdown",
      "source": [
        "Model evaluation"
      ],
      "metadata": {
        "id": "R_C8wR5OBJ5F"
      }
    },
    {
      "cell_type": "code",
      "execution_count": 70,
      "metadata": {
        "colab": {
          "base_uri": "https://localhost:8080/"
        },
        "id": "ZcMXWageiNXa",
        "outputId": "b41ff449-f34c-4ac6-9b4a-746b042a7013"
      },
      "outputs": [
        {
          "output_type": "execute_result",
          "data": {
            "text/plain": [
              "0.3005414402049641"
            ]
          },
          "metadata": {},
          "execution_count": 70
        }
      ],
      "source": [
        "#ouputting the r^2 score\n",
        "from sklearn.metrics import r2_score\n",
        "r2_score(y_test,y_predict)"
      ]
    },
    {
      "cell_type": "code",
      "execution_count": 71,
      "metadata": {
        "colab": {
          "base_uri": "https://localhost:8080/"
        },
        "id": "UTJxlcPsQnA3",
        "outputId": "d56800a1-1dd0-47d6-b9da-71842ebbbfe2"
      },
      "outputs": [
        {
          "output_type": "execute_result",
          "data": {
            "text/plain": [
              "61.840365697804266"
            ]
          },
          "metadata": {},
          "execution_count": 71
        }
      ],
      "source": [
        "#outputting the mean squared error\n",
        "from sklearn.metrics import mean_squared_error\n",
        "mean_squared_error(y_test, y_predict)"
      ]
    },
    {
      "cell_type": "code",
      "execution_count": 72,
      "metadata": {
        "colab": {
          "base_uri": "https://localhost:8080/"
        },
        "id": "pO9wJBq8SvY_",
        "outputId": "ea7f8b7c-a949-4631-efaa-3eec87d57f9a"
      },
      "outputs": [
        {
          "output_type": "stream",
          "name": "stdout",
          "text": [
            "6.163460620935356\n"
          ]
        }
      ],
      "source": [
        "#ouputting the mean absolute error\n",
        "from sklearn.metrics import mean_absolute_error as mae\n",
        "mae_svr = mae(y_test, y_predict)\n",
        "print (mae_svr)"
      ]
    },
    {
      "cell_type": "markdown",
      "metadata": {
        "id": "tUIVSLFSWZVM"
      },
      "source": [
        "#### Second model: Multilayer Perceptron Neural Network (MLP Neural Network)"
      ]
    },
    {
      "cell_type": "code",
      "execution_count": 73,
      "metadata": {
        "colab": {
          "base_uri": "https://localhost:8080/",
          "height": 74
        },
        "id": "6Xv3Wf1HWtfe",
        "outputId": "98209737-f1f8-4d17-8c67-4d115aa45eeb"
      },
      "outputs": [
        {
          "output_type": "execute_result",
          "data": {
            "text/plain": [
              "MLPRegressor(hidden_layer_sizes=(20, 20, 20, 20), max_iter=1000, random_state=1)"
            ],
            "text/html": [
              "<style>#sk-container-id-5 {color: black;background-color: white;}#sk-container-id-5 pre{padding: 0;}#sk-container-id-5 div.sk-toggleable {background-color: white;}#sk-container-id-5 label.sk-toggleable__label {cursor: pointer;display: block;width: 100%;margin-bottom: 0;padding: 0.3em;box-sizing: border-box;text-align: center;}#sk-container-id-5 label.sk-toggleable__label-arrow:before {content: \"▸\";float: left;margin-right: 0.25em;color: #696969;}#sk-container-id-5 label.sk-toggleable__label-arrow:hover:before {color: black;}#sk-container-id-5 div.sk-estimator:hover label.sk-toggleable__label-arrow:before {color: black;}#sk-container-id-5 div.sk-toggleable__content {max-height: 0;max-width: 0;overflow: hidden;text-align: left;background-color: #f0f8ff;}#sk-container-id-5 div.sk-toggleable__content pre {margin: 0.2em;color: black;border-radius: 0.25em;background-color: #f0f8ff;}#sk-container-id-5 input.sk-toggleable__control:checked~div.sk-toggleable__content {max-height: 200px;max-width: 100%;overflow: auto;}#sk-container-id-5 input.sk-toggleable__control:checked~label.sk-toggleable__label-arrow:before {content: \"▾\";}#sk-container-id-5 div.sk-estimator input.sk-toggleable__control:checked~label.sk-toggleable__label {background-color: #d4ebff;}#sk-container-id-5 div.sk-label input.sk-toggleable__control:checked~label.sk-toggleable__label {background-color: #d4ebff;}#sk-container-id-5 input.sk-hidden--visually {border: 0;clip: rect(1px 1px 1px 1px);clip: rect(1px, 1px, 1px, 1px);height: 1px;margin: -1px;overflow: hidden;padding: 0;position: absolute;width: 1px;}#sk-container-id-5 div.sk-estimator {font-family: monospace;background-color: #f0f8ff;border: 1px dotted black;border-radius: 0.25em;box-sizing: border-box;margin-bottom: 0.5em;}#sk-container-id-5 div.sk-estimator:hover {background-color: #d4ebff;}#sk-container-id-5 div.sk-parallel-item::after {content: \"\";width: 100%;border-bottom: 1px solid gray;flex-grow: 1;}#sk-container-id-5 div.sk-label:hover label.sk-toggleable__label {background-color: #d4ebff;}#sk-container-id-5 div.sk-serial::before {content: \"\";position: absolute;border-left: 1px solid gray;box-sizing: border-box;top: 0;bottom: 0;left: 50%;z-index: 0;}#sk-container-id-5 div.sk-serial {display: flex;flex-direction: column;align-items: center;background-color: white;padding-right: 0.2em;padding-left: 0.2em;position: relative;}#sk-container-id-5 div.sk-item {position: relative;z-index: 1;}#sk-container-id-5 div.sk-parallel {display: flex;align-items: stretch;justify-content: center;background-color: white;position: relative;}#sk-container-id-5 div.sk-item::before, #sk-container-id-5 div.sk-parallel-item::before {content: \"\";position: absolute;border-left: 1px solid gray;box-sizing: border-box;top: 0;bottom: 0;left: 50%;z-index: -1;}#sk-container-id-5 div.sk-parallel-item {display: flex;flex-direction: column;z-index: 1;position: relative;background-color: white;}#sk-container-id-5 div.sk-parallel-item:first-child::after {align-self: flex-end;width: 50%;}#sk-container-id-5 div.sk-parallel-item:last-child::after {align-self: flex-start;width: 50%;}#sk-container-id-5 div.sk-parallel-item:only-child::after {width: 0;}#sk-container-id-5 div.sk-dashed-wrapped {border: 1px dashed gray;margin: 0 0.4em 0.5em 0.4em;box-sizing: border-box;padding-bottom: 0.4em;background-color: white;}#sk-container-id-5 div.sk-label label {font-family: monospace;font-weight: bold;display: inline-block;line-height: 1.2em;}#sk-container-id-5 div.sk-label-container {text-align: center;}#sk-container-id-5 div.sk-container {/* jupyter's `normalize.less` sets `[hidden] { display: none; }` but bootstrap.min.css set `[hidden] { display: none !important; }` so we also need the `!important` here to be able to override the default hidden behavior on the sphinx rendered scikit-learn.org. See: https://github.com/scikit-learn/scikit-learn/issues/21755 */display: inline-block !important;position: relative;}#sk-container-id-5 div.sk-text-repr-fallback {display: none;}</style><div id=\"sk-container-id-5\" class=\"sk-top-container\"><div class=\"sk-text-repr-fallback\"><pre>MLPRegressor(hidden_layer_sizes=(20, 20, 20, 20), max_iter=1000, random_state=1)</pre><b>In a Jupyter environment, please rerun this cell to show the HTML representation or trust the notebook. <br />On GitHub, the HTML representation is unable to render, please try loading this page with nbviewer.org.</b></div><div class=\"sk-container\" hidden><div class=\"sk-item\"><div class=\"sk-estimator sk-toggleable\"><input class=\"sk-toggleable__control sk-hidden--visually\" id=\"sk-estimator-id-5\" type=\"checkbox\" checked><label for=\"sk-estimator-id-5\" class=\"sk-toggleable__label sk-toggleable__label-arrow\">MLPRegressor</label><div class=\"sk-toggleable__content\"><pre>MLPRegressor(hidden_layer_sizes=(20, 20, 20, 20), max_iter=1000, random_state=1)</pre></div></div></div></div></div>"
            ]
          },
          "metadata": {},
          "execution_count": 73
        }
      ],
      "source": [
        "#training the data using a MLP neural network\n",
        "from sklearn.neural_network import MLPRegressor\n",
        "model_mlp = MLPRegressor(hidden_layer_sizes = (20,20,20,20),random_state=1, max_iter=1000)\n",
        "model_mlp.fit(X_train, y_train.values.ravel())"
      ]
    },
    {
      "cell_type": "code",
      "execution_count": 74,
      "metadata": {
        "colab": {
          "base_uri": "https://localhost:8080/",
          "height": 470
        },
        "id": "lM87phxEk4XD",
        "outputId": "840a5126-ee93-4f70-ebe1-cb73e83b164c"
      },
      "outputs": [
        {
          "output_type": "execute_result",
          "data": {
            "text/plain": [
              "Text(0, 0.5, 'Loss')"
            ]
          },
          "metadata": {},
          "execution_count": 74
        },
        {
          "output_type": "display_data",
          "data": {
            "text/plain": [
              "<Figure size 640x480 with 1 Axes>"
            ],
            "image/png": "[encoded data removed]"
          },
          "metadata": {}
        }
      ],
      "source": [
        "#printing a loss curve for MLP neural network\n",
        "import matplotlib.pyplot as plt\n",
        "plt.plot(model_mlp.loss_curve_)\n",
        "plt.xlabel(\"Number of Iterations\")\n",
        "plt.ylabel(\"Loss\")"
      ]
    },
    {
      "cell_type": "code",
      "execution_count": 75,
      "metadata": {
        "id": "9huQ-gD_YSep"
      },
      "outputs": [],
      "source": [
        "#predicting\n",
        "y_predicttest = model_mlp.predict(X_test)"
      ]
    },
    {
      "cell_type": "markdown",
      "metadata": {
        "id": "DPg-9gFqXccE"
      },
      "source": [
        "Model Evaluation"
      ]
    },
    {
      "cell_type": "code",
      "execution_count": 76,
      "metadata": {
        "colab": {
          "base_uri": "https://localhost:8080/"
        },
        "id": "9MwX0crwSMWc",
        "outputId": "cf3fca60-a4f7-4863-8af1-d765dc34c1da"
      },
      "outputs": [
        {
          "output_type": "execute_result",
          "data": {
            "text/plain": [
              "0.3888099574185818"
            ]
          },
          "metadata": {},
          "execution_count": 76
        }
      ],
      "source": [
        "#outputting the r^2 score\n",
        "from sklearn.metrics import r2_score\n",
        "r2_score(y_test,y_predicttest)"
      ]
    },
    {
      "cell_type": "code",
      "execution_count": 77,
      "metadata": {
        "colab": {
          "base_uri": "https://localhost:8080/"
        },
        "id": "U8OpK7fQMoXp",
        "outputId": "50339853-bdc9-41f0-fd8e-243716bc05af"
      },
      "outputs": [
        {
          "output_type": "execute_result",
          "data": {
            "text/plain": [
              "54.036390311910665"
            ]
          },
          "metadata": {},
          "execution_count": 77
        }
      ],
      "source": [
        "#outputting the mean squared error\n",
        "mean_squared_error(y_test, y_predicttest)\n"
      ]
    },
    {
      "cell_type": "code",
      "execution_count": 78,
      "metadata": {
        "colab": {
          "base_uri": "https://localhost:8080/"
        },
        "id": "ZWohCZrOYuZG",
        "outputId": "328a5a0d-b002-4d76-fd0e-28c9cd2bd94e"
      },
      "outputs": [
        {
          "output_type": "stream",
          "name": "stdout",
          "text": [
            "5.789220168148377\n"
          ]
        }
      ],
      "source": [
        "#outputting the mean average error\n",
        "mae_mlptest = mae(y_test, y_predicttest)\n",
        "print (mae_mlptest)"
      ]
    },
    {
      "cell_type": "markdown",
      "metadata": {
        "id": "vA1s1gqjLtR0"
      },
      "source": [
        "#### Model 3: SGD Regressor model"
      ]
    },
    {
      "cell_type": "code",
      "execution_count": 79,
      "metadata": {
        "id": "xYzAnBpmL-ol"
      },
      "outputs": [],
      "source": [
        "#imports\n",
        "from sklearn.linear_model import SGDRegressor"
      ]
    },
    {
      "cell_type": "code",
      "execution_count": 80,
      "metadata": {
        "id": "BSM0nLbMMKdv"
      },
      "outputs": [],
      "source": [
        "#initializing the model\n",
        "model_sgdr = SGDRegressor()"
      ]
    },
    {
      "cell_type": "code",
      "execution_count": 81,
      "metadata": {
        "colab": {
          "base_uri": "https://localhost:8080/",
          "height": 74
        },
        "id": "r6NM0PExM-Iq",
        "outputId": "b294fd80-edbc-4975-b2d2-bb7542a67e1f"
      },
      "outputs": [
        {
          "output_type": "execute_result",
          "data": {
            "text/plain": [
              "SGDRegressor()"
            ],
            "text/html": [
              "<style>#sk-container-id-6 {color: black;background-color: white;}#sk-container-id-6 pre{padding: 0;}#sk-container-id-6 div.sk-toggleable {background-color: white;}#sk-container-id-6 label.sk-toggleable__label {cursor: pointer;display: block;width: 100%;margin-bottom: 0;padding: 0.3em;box-sizing: border-box;text-align: center;}#sk-container-id-6 label.sk-toggleable__label-arrow:before {content: \"▸\";float: left;margin-right: 0.25em;color: #696969;}#sk-container-id-6 label.sk-toggleable__label-arrow:hover:before {color: black;}#sk-container-id-6 div.sk-estimator:hover label.sk-toggleable__label-arrow:before {color: black;}#sk-container-id-6 div.sk-toggleable__content {max-height: 0;max-width: 0;overflow: hidden;text-align: left;background-color: #f0f8ff;}#sk-container-id-6 div.sk-toggleable__content pre {margin: 0.2em;color: black;border-radius: 0.25em;background-color: #f0f8ff;}#sk-container-id-6 input.sk-toggleable__control:checked~div.sk-toggleable__content {max-height: 200px;max-width: 100%;overflow: auto;}#sk-container-id-6 input.sk-toggleable__control:checked~label.sk-toggleable__label-arrow:before {content: \"▾\";}#sk-container-id-6 div.sk-estimator input.sk-toggleable__control:checked~label.sk-toggleable__label {background-color: #d4ebff;}#sk-container-id-6 div.sk-label input.sk-toggleable__control:checked~label.sk-toggleable__label {background-color: #d4ebff;}#sk-container-id-6 input.sk-hidden--visually {border: 0;clip: rect(1px 1px 1px 1px);clip: rect(1px, 1px, 1px, 1px);height: 1px;margin: -1px;overflow: hidden;padding: 0;position: absolute;width: 1px;}#sk-container-id-6 div.sk-estimator {font-family: monospace;background-color: #f0f8ff;border: 1px dotted black;border-radius: 0.25em;box-sizing: border-box;margin-bottom: 0.5em;}#sk-container-id-6 div.sk-estimator:hover {background-color: #d4ebff;}#sk-container-id-6 div.sk-parallel-item::after {content: \"\";width: 100%;border-bottom: 1px solid gray;flex-grow: 1;}#sk-container-id-6 div.sk-label:hover label.sk-toggleable__label {background-color: #d4ebff;}#sk-container-id-6 div.sk-serial::before {content: \"\";position: absolute;border-left: 1px solid gray;box-sizing: border-box;top: 0;bottom: 0;left: 50%;z-index: 0;}#sk-container-id-6 div.sk-serial {display: flex;flex-direction: column;align-items: center;background-color: white;padding-right: 0.2em;padding-left: 0.2em;position: relative;}#sk-container-id-6 div.sk-item {position: relative;z-index: 1;}#sk-container-id-6 div.sk-parallel {display: flex;align-items: stretch;justify-content: center;background-color: white;position: relative;}#sk-container-id-6 div.sk-item::before, #sk-container-id-6 div.sk-parallel-item::before {content: \"\";position: absolute;border-left: 1px solid gray;box-sizing: border-box;top: 0;bottom: 0;left: 50%;z-index: -1;}#sk-container-id-6 div.sk-parallel-item {display: flex;flex-direction: column;z-index: 1;position: relative;background-color: white;}#sk-container-id-6 div.sk-parallel-item:first-child::after {align-self: flex-end;width: 50%;}#sk-container-id-6 div.sk-parallel-item:last-child::after {align-self: flex-start;width: 50%;}#sk-container-id-6 div.sk-parallel-item:only-child::after {width: 0;}#sk-container-id-6 div.sk-dashed-wrapped {border: 1px dashed gray;margin: 0 0.4em 0.5em 0.4em;box-sizing: border-box;padding-bottom: 0.4em;background-color: white;}#sk-container-id-6 div.sk-label label {font-family: monospace;font-weight: bold;display: inline-block;line-height: 1.2em;}#sk-container-id-6 div.sk-label-container {text-align: center;}#sk-container-id-6 div.sk-container {/* jupyter's `normalize.less` sets `[hidden] { display: none; }` but bootstrap.min.css set `[hidden] { display: none !important; }` so we also need the `!important` here to be able to override the default hidden behavior on the sphinx rendered scikit-learn.org. See: https://github.com/scikit-learn/scikit-learn/issues/21755 */display: inline-block !important;position: relative;}#sk-container-id-6 div.sk-text-repr-fallback {display: none;}</style><div id=\"sk-container-id-6\" class=\"sk-top-container\"><div class=\"sk-text-repr-fallback\"><pre>SGDRegressor()</pre><b>In a Jupyter environment, please rerun this cell to show the HTML representation or trust the notebook. <br />On GitHub, the HTML representation is unable to render, please try loading this page with nbviewer.org.</b></div><div class=\"sk-container\" hidden><div class=\"sk-item\"><div class=\"sk-estimator sk-toggleable\"><input class=\"sk-toggleable__control sk-hidden--visually\" id=\"sk-estimator-id-6\" type=\"checkbox\" checked><label for=\"sk-estimator-id-6\" class=\"sk-toggleable__label sk-toggleable__label-arrow\">SGDRegressor</label><div class=\"sk-toggleable__content\"><pre>SGDRegressor()</pre></div></div></div></div></div>"
            ]
          },
          "metadata": {},
          "execution_count": 81
        }
      ],
      "source": [
        "#training the data\n",
        "model_sgdr.fit(X_train, y_train.values.ravel())"
      ]
    },
    {
      "cell_type": "code",
      "execution_count": 82,
      "metadata": {
        "id": "Io0-ueIbP8v8"
      },
      "outputs": [],
      "source": [
        "#predicting\n",
        "y_predict = model_sgdr.predict(X_test)"
      ]
    },
    {
      "cell_type": "markdown",
      "metadata": {
        "id": "GGRTd8UnyjpP"
      },
      "source": [
        "Model evaluation"
      ]
    },
    {
      "cell_type": "code",
      "execution_count": 83,
      "metadata": {
        "colab": {
          "base_uri": "https://localhost:8080/"
        },
        "id": "8GLA90H8ST5m",
        "outputId": "31b54eb9-131f-4015-ec67-b9c1eecbc2a9"
      },
      "outputs": [
        {
          "output_type": "execute_result",
          "data": {
            "text/plain": [
              "0.29843374768038977"
            ]
          },
          "metadata": {},
          "execution_count": 83
        }
      ],
      "source": [
        "#outputting the r squared score\n",
        "sgdr_score = model_sgdr.score(X_train, y_train.values.ravel())\n",
        "sgdr_score"
      ]
    },
    {
      "cell_type": "code",
      "execution_count": 84,
      "metadata": {
        "colab": {
          "base_uri": "https://localhost:8080/"
        },
        "id": "PL-_mr27Q0N1",
        "outputId": "30e13337-87ce-4ddf-af1d-b68dd5574569"
      },
      "outputs": [
        {
          "output_type": "execute_result",
          "data": {
            "text/plain": [
              "63.734086135389695"
            ]
          },
          "metadata": {},
          "execution_count": 84
        }
      ],
      "source": [
        "#outputting the mean squared error\n",
        "mean_squared_error(y_test, y_predict)\n"
      ]
    },
    {
      "cell_type": "code",
      "execution_count": 85,
      "metadata": {
        "colab": {
          "base_uri": "https://localhost:8080/"
        },
        "id": "JyyIf7hdZKup",
        "outputId": "0dabe39e-4f15-4b56-9793-a9012bd0643a"
      },
      "outputs": [
        {
          "output_type": "stream",
          "name": "stdout",
          "text": [
            "6.346260238133973\n"
          ]
        }
      ],
      "source": [
        "#outputting the mean average error\n",
        "mae_sgdr = mae(y_test, y_predict)\n",
        "print (mae_sgdr)"
      ]
    },
    {
      "cell_type": "markdown",
      "metadata": {
        "id": "i5pk9MOSSBgK"
      },
      "source": [
        "### Optimizing the architecture of the MLP neural network\n",
        "The neural network is clearly the best, let's optimise the architecture"
      ]
    },
    {
      "cell_type": "code",
      "execution_count": 86,
      "metadata": {
        "id": "0OavGAOdKcEt"
      },
      "outputs": [],
      "source": [
        "from sklearn.neural_network import MLPRegressor\n",
        "import matplotlib.pyplot as plt"
      ]
    },
    {
      "cell_type": "markdown",
      "metadata": {
        "id": "t6NQbJNj51Fg"
      },
      "source": [
        "#### 1 Layer:"
      ]
    },
    {
      "cell_type": "code",
      "execution_count": 87,
      "metadata": {
        "colab": {
          "base_uri": "https://localhost:8080/",
          "height": 489
        },
        "id": "tuVtS2c15bUv",
        "outputId": "1fc65c1a-1698-4014-bebd-b0be60ecf950"
      },
      "outputs": [
        {
          "output_type": "execute_result",
          "data": {
            "text/plain": [
              "Text(0.5, 1.0, 'Number of Neurons vs R squared score comparison with 1 layer')"
            ]
          },
          "metadata": {},
          "execution_count": 87
        },
        {
          "output_type": "display_data",
          "data": {
            "text/plain": [
              "<Figure size 640x480 with 1 Axes>"
            ],
            "image/png": "[encoded data removed]"
          },
          "metadata": {}
        }
      ],
      "source": [
        "from sklearn.metrics import r2_score\n",
        "layers = [20,40,60,80,100]\n",
        "results = []\n",
        "for l in layers:\n",
        "  model_mlp_neurontesting = MLPRegressor(hidden_layer_sizes = (l),random_state=1, max_iter=1000)\n",
        "  model_mlp_neurontesting.fit(X_train, y_train.values.ravel())\n",
        "  y_pt_nt = model_mlp_neurontesting.predict(X_test)\n",
        "  results.append(r2_score(y_test,y_pt_nt))\n",
        "plt.plot(layers,results)\n",
        "plt.xlabel(\"Number of Neurons\")\n",
        "plt.ylabel(\"R squared score\")\n",
        "plt.title(\"Number of Neurons vs R squared score comparison with 1 layer\")\n"
      ]
    },
    {
      "cell_type": "markdown",
      "metadata": {
        "id": "7lpI7nf36YhY"
      },
      "source": [
        "#### Two layers:"
      ]
    },
    {
      "cell_type": "code",
      "execution_count": 88,
      "metadata": {
        "colab": {
          "base_uri": "https://localhost:8080/",
          "height": 489
        },
        "id": "X9EdOqwx_gf0",
        "outputId": "fdcbf9ac-fee0-41b8-a2c3-ae5b79a3f092"
      },
      "outputs": [
        {
          "output_type": "execute_result",
          "data": {
            "text/plain": [
              "Text(0.5, 1.0, 'Number of Neurons vs R squared score comparison with 2 layers')"
            ]
          },
          "metadata": {},
          "execution_count": 88
        },
        {
          "output_type": "display_data",
          "data": {
            "text/plain": [
              "<Figure size 640x480 with 1 Axes>"
            ],
            "image/png": "[encoded data removed]"
          },
          "metadata": {}
        }
      ],
      "source": [
        "from sklearn.metrics import r2_score\n",
        "layers = [15,30,45,60,75]\n",
        "results = []\n",
        "for l in layers:\n",
        "  model_mlp_neurontesting = MLPRegressor(hidden_layer_sizes = (l,l),random_state=1, max_iter=1000)\n",
        "  model_mlp_neurontesting.fit(X_train, y_train.values.ravel())\n",
        "  y_pt_nt = model_mlp_neurontesting.predict(X_test)\n",
        "  results.append(r2_score(y_test,y_pt_nt))\n",
        "plt.plot(layers,results)\n",
        "plt.xlabel(\"Number of Neurons\")\n",
        "plt.ylabel(\"R squared score\")\n",
        "plt.title(\"Number of Neurons vs R squared score comparison with 2 layers\")"
      ]
    },
    {
      "cell_type": "markdown",
      "metadata": {
        "id": "C9fQZ_IjA_MP"
      },
      "source": [
        "#### Three layers:"
      ]
    },
    {
      "cell_type": "code",
      "execution_count": 89,
      "metadata": {
        "colab": {
          "base_uri": "https://localhost:8080/",
          "height": 489
        },
        "id": "cEPjSL0PBCp0",
        "outputId": "4cdab925-4b8b-4492-e5ff-676c1b2890b9"
      },
      "outputs": [
        {
          "output_type": "execute_result",
          "data": {
            "text/plain": [
              "Text(0.5, 1.0, 'Number of Neurons vs R squared score comparison with 3 layers')"
            ]
          },
          "metadata": {},
          "execution_count": 89
        },
        {
          "output_type": "display_data",
          "data": {
            "text/plain": [
              "<Figure size 640x480 with 1 Axes>"
            ],
            "image/png": "[encoded data removed]"
          },
          "metadata": {}
        }
      ],
      "source": [
        "from sklearn.metrics import r2_score\n",
        "layers = [10,20,30,40,50]\n",
        "results = []\n",
        "for l in layers:\n",
        "  model_mlp_neurontesting = MLPRegressor(hidden_layer_sizes = (l,l,l),random_state=1, max_iter=1000)\n",
        "  model_mlp_neurontesting.fit(X_train, y_train.values.ravel())\n",
        "  y_pt_nt = model_mlp_neurontesting.predict(X_test)\n",
        "  results.append(r2_score(y_test,y_pt_nt))\n",
        "plt.plot(layers,results)\n",
        "plt.xlabel(\"Number of Neurons\")\n",
        "plt.ylabel(\"R squared score\")\n",
        "plt.title(\"Number of Neurons vs R squared score comparison with 3 layers\")"
      ]
    },
    {
      "cell_type": "markdown",
      "metadata": {
        "id": "UJGdwCvlChXi"
      },
      "source": [
        "#### Four layers:"
      ]
    },
    {
      "cell_type": "code",
      "execution_count": 90,
      "metadata": {
        "colab": {
          "base_uri": "https://localhost:8080/",
          "height": 489
        },
        "id": "tX--FdR5Cf0W",
        "outputId": "d80939ca-2272-4044-89ad-a1e476281dcf"
      },
      "outputs": [
        {
          "output_type": "execute_result",
          "data": {
            "text/plain": [
              "Text(0.5, 1.0, 'Number of Neurons vs R squared score comparison with 4 layers')"
            ]
          },
          "metadata": {},
          "execution_count": 90
        },
        {
          "output_type": "display_data",
          "data": {
            "text/plain": [
              "<Figure size 640x480 with 1 Axes>"
            ],
            "image/png": "[encoded data removed]"
          },
          "metadata": {}
        }
      ],
      "source": [
        "from sklearn.metrics import r2_score\n",
        "layers = [5,10,15,20,25]\n",
        "results = []\n",
        "for l in layers:\n",
        "  model_mlp_neurontesting = MLPRegressor(hidden_layer_sizes = (l,l,l,l),random_state=1, max_iter=1000)\n",
        "  model_mlp_neurontesting.fit(X_train, y_train.values.ravel())\n",
        "  y_pt_nt = model_mlp_neurontesting.predict(X_test)\n",
        "  results.append(r2_score(y_test,y_pt_nt))\n",
        "plt.plot(layers,results)\n",
        "plt.xlabel(\"Number of Neurons\")\n",
        "plt.ylabel(\"R squared score\")\n",
        "plt.title(\"Number of Neurons vs R squared score comparison with 4 layers\")"
      ]
    },
    {
      "cell_type": "markdown",
      "source": [
        "### Conclusion\n",
        "\n",
        "That's it for the coding part of the project. We further analyse and discuss results, performance, and findings in the Project Report."
      ],
      "metadata": {
        "id": "xTw3sMg5CJGv"
      }
    }
  ],
  "metadata": {
    "colab": {
      "provenance": []
    },
    "kernelspec": {
      "display_name": "Python 3",
      "name": "python3"
    },
    "language_info": {
      "name": "python"
    }
  },
  "nbformat": 4,
  "nbformat_minor": 0
}